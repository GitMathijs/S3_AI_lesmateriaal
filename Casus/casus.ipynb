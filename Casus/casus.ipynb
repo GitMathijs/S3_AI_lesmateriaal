{
 "cells": [
  {
   "cell_type": "markdown",
   "id": "17630398",
   "metadata": {
    "vscode": {
     "languageId": "plaintext"
    }
   },
   "source": [
    "# Casus"
   ]
  },
  {
   "cell_type": "markdown",
   "id": "4cf61027",
   "metadata": {},
   "source": [
    "## Inleiding\n",
    "\n",
    "In dit document maak ik een data sciene pipeline. Ik ga data analyseren en een model trainen om antwoord te geven op de volgende onderzoeksvraag:\n",
    "\n",
    "_Hoe groot is de kans dat een werknemer geestelijke gezondheidszorg nodig heeft?_\n",
    "\n",
    "Om deze onderzoeksvraag te beantwoorden ga ik de 'Data Understanding', 'Data Preparation', 'Modeling' en 'Evaluation' stappen van het CRISP-DM model doorlopen."
   ]
  },
  {
   "cell_type": "markdown",
   "id": "fc6d2e7e",
   "metadata": {},
   "source": [
    "## Data Understanding"
   ]
  },
  {
   "cell_type": "markdown",
   "id": "39c30918",
   "metadata": {},
   "source": [
    "Ik ga de dataset eerst verkennen om een idee te krijgen van de features en wat deze betekenen."
   ]
  },
  {
   "cell_type": "code",
   "execution_count": 75,
   "id": "4b0d36c9",
   "metadata": {},
   "outputs": [],
   "source": [
    "import pandas as pd\n",
    "import matplotlib.pyplot as plt"
   ]
  },
  {
   "cell_type": "code",
   "execution_count": 76,
   "id": "1b230410",
   "metadata": {},
   "outputs": [
    {
     "data": {
      "text/html": [
       "<div>\n",
       "<style scoped>\n",
       "    .dataframe tbody tr th:only-of-type {\n",
       "        vertical-align: middle;\n",
       "    }\n",
       "\n",
       "    .dataframe tbody tr th {\n",
       "        vertical-align: top;\n",
       "    }\n",
       "\n",
       "    .dataframe thead th {\n",
       "        text-align: right;\n",
       "    }\n",
       "</style>\n",
       "<table border=\"1\" class=\"dataframe\">\n",
       "  <thead>\n",
       "    <tr style=\"text-align: right;\">\n",
       "      <th></th>\n",
       "      <th>age</th>\n",
       "      <th>gender</th>\n",
       "      <th>employment_status</th>\n",
       "      <th>work_environment</th>\n",
       "      <th>mental_health_history</th>\n",
       "      <th>seeks_treatment</th>\n",
       "      <th>stress_level</th>\n",
       "      <th>sleep_hours</th>\n",
       "      <th>physical_activity_days</th>\n",
       "      <th>depression_score</th>\n",
       "      <th>anxiety_score</th>\n",
       "      <th>social_support_score</th>\n",
       "      <th>productivity_score</th>\n",
       "      <th>mental_health_risk</th>\n",
       "    </tr>\n",
       "  </thead>\n",
       "  <tbody>\n",
       "    <tr>\n",
       "      <th>0</th>\n",
       "      <td>56</td>\n",
       "      <td>Male</td>\n",
       "      <td>Employed</td>\n",
       "      <td>On-site</td>\n",
       "      <td>Yes</td>\n",
       "      <td>Yes</td>\n",
       "      <td>6</td>\n",
       "      <td>6.2</td>\n",
       "      <td>3</td>\n",
       "      <td>28</td>\n",
       "      <td>17</td>\n",
       "      <td>54</td>\n",
       "      <td>59.7</td>\n",
       "      <td>High</td>\n",
       "    </tr>\n",
       "    <tr>\n",
       "      <th>1</th>\n",
       "      <td>46</td>\n",
       "      <td>Female</td>\n",
       "      <td>Student</td>\n",
       "      <td>On-site</td>\n",
       "      <td>No</td>\n",
       "      <td>Yes</td>\n",
       "      <td>10</td>\n",
       "      <td>9.0</td>\n",
       "      <td>4</td>\n",
       "      <td>30</td>\n",
       "      <td>11</td>\n",
       "      <td>85</td>\n",
       "      <td>54.9</td>\n",
       "      <td>High</td>\n",
       "    </tr>\n",
       "    <tr>\n",
       "      <th>2</th>\n",
       "      <td>32</td>\n",
       "      <td>Female</td>\n",
       "      <td>Employed</td>\n",
       "      <td>On-site</td>\n",
       "      <td>Yes</td>\n",
       "      <td>No</td>\n",
       "      <td>7</td>\n",
       "      <td>7.7</td>\n",
       "      <td>2</td>\n",
       "      <td>24</td>\n",
       "      <td>7</td>\n",
       "      <td>62</td>\n",
       "      <td>61.3</td>\n",
       "      <td>Medium</td>\n",
       "    </tr>\n",
       "    <tr>\n",
       "      <th>3</th>\n",
       "      <td>60</td>\n",
       "      <td>Non-binary</td>\n",
       "      <td>Self-employed</td>\n",
       "      <td>On-site</td>\n",
       "      <td>No</td>\n",
       "      <td>No</td>\n",
       "      <td>4</td>\n",
       "      <td>4.5</td>\n",
       "      <td>4</td>\n",
       "      <td>6</td>\n",
       "      <td>0</td>\n",
       "      <td>95</td>\n",
       "      <td>97.0</td>\n",
       "      <td>Low</td>\n",
       "    </tr>\n",
       "    <tr>\n",
       "      <th>4</th>\n",
       "      <td>25</td>\n",
       "      <td>Female</td>\n",
       "      <td>Self-employed</td>\n",
       "      <td>On-site</td>\n",
       "      <td>Yes</td>\n",
       "      <td>Yes</td>\n",
       "      <td>3</td>\n",
       "      <td>5.4</td>\n",
       "      <td>0</td>\n",
       "      <td>24</td>\n",
       "      <td>12</td>\n",
       "      <td>70</td>\n",
       "      <td>69.0</td>\n",
       "      <td>High</td>\n",
       "    </tr>\n",
       "  </tbody>\n",
       "</table>\n",
       "</div>"
      ],
      "text/plain": [
       "   age      gender employment_status work_environment mental_health_history  \\\n",
       "0   56        Male          Employed          On-site                   Yes   \n",
       "1   46      Female           Student          On-site                    No   \n",
       "2   32      Female          Employed          On-site                   Yes   \n",
       "3   60  Non-binary     Self-employed          On-site                    No   \n",
       "4   25      Female     Self-employed          On-site                   Yes   \n",
       "\n",
       "  seeks_treatment  stress_level  sleep_hours  physical_activity_days  \\\n",
       "0             Yes             6          6.2                       3   \n",
       "1             Yes            10          9.0                       4   \n",
       "2              No             7          7.7                       2   \n",
       "3              No             4          4.5                       4   \n",
       "4             Yes             3          5.4                       0   \n",
       "\n",
       "   depression_score  anxiety_score  social_support_score  productivity_score  \\\n",
       "0                28             17                    54                59.7   \n",
       "1                30             11                    85                54.9   \n",
       "2                24              7                    62                61.3   \n",
       "3                 6              0                    95                97.0   \n",
       "4                24             12                    70                69.0   \n",
       "\n",
       "  mental_health_risk  \n",
       "0               High  \n",
       "1               High  \n",
       "2             Medium  \n",
       "3                Low  \n",
       "4               High  "
      ]
     },
     "execution_count": 76,
     "metadata": {},
     "output_type": "execute_result"
    }
   ],
   "source": [
    "# data inladen\n",
    "data = pd.read_csv(\"mental_health_dataset.csv\")\n",
    "data.head()"
   ]
  },
  {
   "cell_type": "code",
   "execution_count": 77,
   "id": "3868980e",
   "metadata": {},
   "outputs": [
    {
     "name": "stdout",
     "output_type": "stream",
     "text": [
      "<class 'pandas.core.frame.DataFrame'>\n",
      "RangeIndex: 10000 entries, 0 to 9999\n",
      "Data columns (total 14 columns):\n",
      " #   Column                  Non-Null Count  Dtype  \n",
      "---  ------                  --------------  -----  \n",
      " 0   age                     10000 non-null  int64  \n",
      " 1   gender                  10000 non-null  object \n",
      " 2   employment_status       10000 non-null  object \n",
      " 3   work_environment        10000 non-null  object \n",
      " 4   mental_health_history   10000 non-null  object \n",
      " 5   seeks_treatment         10000 non-null  object \n",
      " 6   stress_level            10000 non-null  int64  \n",
      " 7   sleep_hours             10000 non-null  float64\n",
      " 8   physical_activity_days  10000 non-null  int64  \n",
      " 9   depression_score        10000 non-null  int64  \n",
      " 10  anxiety_score           10000 non-null  int64  \n",
      " 11  social_support_score    10000 non-null  int64  \n",
      " 12  productivity_score      10000 non-null  float64\n",
      " 13  mental_health_risk      10000 non-null  object \n",
      "dtypes: float64(2), int64(6), object(6)\n",
      "memory usage: 1.1+ MB\n"
     ]
    }
   ],
   "source": [
    "data.info()"
   ]
  },
  {
   "cell_type": "markdown",
   "id": "a4b9a3fc",
   "metadata": {},
   "source": [
    "De dataset bevat 10000 rijen en 14 kolommen. Geen enkele kolom heeft missende waarden. De datatypen van de meeste kolommen zijn logisch, maar ik zal de kolommen die alleen \"yes/no\" waarden hebben misschien moeten omzetten naar \"1/0\" waarden voordat ik het in een model stop.\n",
    "\n",
    "Ik check nu de mogelijke waarden voor de categoriale features:"
   ]
  },
  {
   "cell_type": "code",
   "execution_count": 78,
   "id": "1b139510",
   "metadata": {},
   "outputs": [
    {
     "name": "stdout",
     "output_type": "stream",
     "text": [
      "gender: ['Male' 'Female' 'Non-binary' 'Prefer not to say']\n",
      "employment_status: ['Employed' 'Student' 'Self-employed' 'Unemployed']\n",
      "work_environment: ['On-site' 'Remote' 'Hybrid']\n",
      "mental_health_history: ['Yes' 'No']\n",
      "seeks_treatment: ['Yes' 'No']\n",
      "mental_health_risk: ['High' 'Medium' 'Low']\n"
     ]
    }
   ],
   "source": [
    "cols = [\"gender\", \"employment_status\", \"work_environment\", \"mental_health_history\", \"seeks_treatment\", \"mental_health_risk\"]\n",
    "\n",
    "for col in cols:\n",
    "    print(f\"{col}: {data[col].unique()}\")\n"
   ]
  },
  {
   "cell_type": "markdown",
   "id": "26a680d5",
   "metadata": {},
   "source": [
    "De categoriale kolommen zijn als volgt:\n",
    "- gender: geslacht. Er zijn naast man en vrouw ook de opties non-binary en 'prefer not to say'.\n",
    "- employment_status: of de persoon (zelfstandig) werkt, student is of werkloos is.\n",
    "- work_environment: waar de persoon werkt. Thuis, op locatie of een combinatie.\n",
    "- mental_health_history: betekent waarschijnlijk of de persoon al eerder mentale gezondheidsproblemen gehad heeft. Hier ga ik vanuit, er is helaas geen data dictionary om dit te controleren.\n",
    "- seeks_treatment: of de persoon opzoek is naar mentale gezondheidszorg.\n",
    "- mental_health_risk: of de persoon een lage, medium of hoge waarschijnlijkheid heeft op mentale gezondheidsproblemen. Deze kolom wordt de targetvariabele die ik ga proberen te voorspellen."
   ]
  },
  {
   "cell_type": "markdown",
   "id": "27d3447e",
   "metadata": {},
   "source": [
    "Nu ga ik kijken naar de numerieke kolommen:"
   ]
  },
  {
   "cell_type": "code",
   "execution_count": 79,
   "id": "401d2680",
   "metadata": {},
   "outputs": [
    {
     "data": {
      "text/html": [
       "<div>\n",
       "<style scoped>\n",
       "    .dataframe tbody tr th:only-of-type {\n",
       "        vertical-align: middle;\n",
       "    }\n",
       "\n",
       "    .dataframe tbody tr th {\n",
       "        vertical-align: top;\n",
       "    }\n",
       "\n",
       "    .dataframe thead th {\n",
       "        text-align: right;\n",
       "    }\n",
       "</style>\n",
       "<table border=\"1\" class=\"dataframe\">\n",
       "  <thead>\n",
       "    <tr style=\"text-align: right;\">\n",
       "      <th></th>\n",
       "      <th>age</th>\n",
       "      <th>stress_level</th>\n",
       "      <th>sleep_hours</th>\n",
       "      <th>physical_activity_days</th>\n",
       "      <th>depression_score</th>\n",
       "      <th>anxiety_score</th>\n",
       "      <th>social_support_score</th>\n",
       "      <th>productivity_score</th>\n",
       "    </tr>\n",
       "  </thead>\n",
       "  <tbody>\n",
       "    <tr>\n",
       "      <th>count</th>\n",
       "      <td>10000.000000</td>\n",
       "      <td>10000.000000</td>\n",
       "      <td>10000.000000</td>\n",
       "      <td>10000.000000</td>\n",
       "      <td>10000.000000</td>\n",
       "      <td>10000.00000</td>\n",
       "      <td>10000.000000</td>\n",
       "      <td>10000.000000</td>\n",
       "    </tr>\n",
       "    <tr>\n",
       "      <th>mean</th>\n",
       "      <td>41.557600</td>\n",
       "      <td>5.572000</td>\n",
       "      <td>6.473000</td>\n",
       "      <td>3.505700</td>\n",
       "      <td>15.039900</td>\n",
       "      <td>10.56180</td>\n",
       "      <td>50.117700</td>\n",
       "      <td>77.312210</td>\n",
       "    </tr>\n",
       "    <tr>\n",
       "      <th>std</th>\n",
       "      <td>13.749581</td>\n",
       "      <td>2.887741</td>\n",
       "      <td>1.473944</td>\n",
       "      <td>2.282737</td>\n",
       "      <td>8.990839</td>\n",
       "      <td>6.32264</td>\n",
       "      <td>29.229278</td>\n",
       "      <td>14.061202</td>\n",
       "    </tr>\n",
       "    <tr>\n",
       "      <th>min</th>\n",
       "      <td>18.000000</td>\n",
       "      <td>1.000000</td>\n",
       "      <td>3.000000</td>\n",
       "      <td>0.000000</td>\n",
       "      <td>0.000000</td>\n",
       "      <td>0.00000</td>\n",
       "      <td>0.000000</td>\n",
       "      <td>42.800000</td>\n",
       "    </tr>\n",
       "    <tr>\n",
       "      <th>25%</th>\n",
       "      <td>30.000000</td>\n",
       "      <td>3.000000</td>\n",
       "      <td>5.500000</td>\n",
       "      <td>2.000000</td>\n",
       "      <td>7.000000</td>\n",
       "      <td>5.00000</td>\n",
       "      <td>25.000000</td>\n",
       "      <td>65.800000</td>\n",
       "    </tr>\n",
       "    <tr>\n",
       "      <th>50%</th>\n",
       "      <td>41.500000</td>\n",
       "      <td>6.000000</td>\n",
       "      <td>6.500000</td>\n",
       "      <td>4.000000</td>\n",
       "      <td>15.000000</td>\n",
       "      <td>11.00000</td>\n",
       "      <td>50.000000</td>\n",
       "      <td>77.600000</td>\n",
       "    </tr>\n",
       "    <tr>\n",
       "      <th>75%</th>\n",
       "      <td>53.000000</td>\n",
       "      <td>8.000000</td>\n",
       "      <td>7.500000</td>\n",
       "      <td>5.000000</td>\n",
       "      <td>23.000000</td>\n",
       "      <td>16.00000</td>\n",
       "      <td>76.000000</td>\n",
       "      <td>89.200000</td>\n",
       "    </tr>\n",
       "    <tr>\n",
       "      <th>max</th>\n",
       "      <td>65.000000</td>\n",
       "      <td>10.000000</td>\n",
       "      <td>10.000000</td>\n",
       "      <td>7.000000</td>\n",
       "      <td>30.000000</td>\n",
       "      <td>21.00000</td>\n",
       "      <td>100.000000</td>\n",
       "      <td>100.000000</td>\n",
       "    </tr>\n",
       "  </tbody>\n",
       "</table>\n",
       "</div>"
      ],
      "text/plain": [
       "                age  stress_level   sleep_hours  physical_activity_days  \\\n",
       "count  10000.000000  10000.000000  10000.000000            10000.000000   \n",
       "mean      41.557600      5.572000      6.473000                3.505700   \n",
       "std       13.749581      2.887741      1.473944                2.282737   \n",
       "min       18.000000      1.000000      3.000000                0.000000   \n",
       "25%       30.000000      3.000000      5.500000                2.000000   \n",
       "50%       41.500000      6.000000      6.500000                4.000000   \n",
       "75%       53.000000      8.000000      7.500000                5.000000   \n",
       "max       65.000000     10.000000     10.000000                7.000000   \n",
       "\n",
       "       depression_score  anxiety_score  social_support_score  \\\n",
       "count      10000.000000    10000.00000          10000.000000   \n",
       "mean          15.039900       10.56180             50.117700   \n",
       "std            8.990839        6.32264             29.229278   \n",
       "min            0.000000        0.00000              0.000000   \n",
       "25%            7.000000        5.00000             25.000000   \n",
       "50%           15.000000       11.00000             50.000000   \n",
       "75%           23.000000       16.00000             76.000000   \n",
       "max           30.000000       21.00000            100.000000   \n",
       "\n",
       "       productivity_score  \n",
       "count        10000.000000  \n",
       "mean            77.312210  \n",
       "std             14.061202  \n",
       "min             42.800000  \n",
       "25%             65.800000  \n",
       "50%             77.600000  \n",
       "75%             89.200000  \n",
       "max            100.000000  "
      ]
     },
     "execution_count": 79,
     "metadata": {},
     "output_type": "execute_result"
    }
   ],
   "source": [
    "data.describe()"
   ]
  },
  {
   "cell_type": "markdown",
   "id": "2dd8adaa",
   "metadata": {},
   "source": [
    "De numerieke kolommen zijn als volgt:\n",
    "- age: leeftijd. De dataset gaat over volwassenen tussen de 18 en 65.\n",
    "- stress_level: hoeveel stress de persoon ervaart op schaal van 1 tot 10 (kan ook van 0 tot 10 zijn, maar 1 is het laagste wat is ingevuld).\n",
    "- sleep_hours: hoeveel uur de persoon gemiddeld per nacht slaapt.\n",
    "- physical_activity_days: hoeveel dagen in de week de persoon gemiddeld sport.\n",
    "- depression_score: hoe hoger dit getal, hoe waarschijnlijker het is dat de persoon aan depressie lijdt. Dataset bevat getallen van 0 tot 30.\n",
    "- anxiety_score: hoe hoger dit getal, hoe waarschijnlijker het is dat de persoon aan angst lijdt. Dataset bevat getallen van 0 tot 21.\n",
    "- social_support_score: Hoe hoger dit getal, hoe meer steun een persoon kan vinden in zijn directe omgeving (vrienden, familie etc.). Loopt van 0 tot 100.\n",
    "- productivity_score: Hoe productief de persoon is. Loopt van 42.8 tot 100 in de dataset."
   ]
  },
  {
   "cell_type": "markdown",
   "id": "d30913ae",
   "metadata": {},
   "source": [
    "Ik ga nog wat beter kijken naar kolommen die mij interessant lijken. Als eerst de mental_health_risk kolom, omdat dat de targetvariabele wordt. Ik maak een barplot om de spreiding van de waarden te visualiseren:"
   ]
  },
  {
   "cell_type": "code",
   "execution_count": 80,
   "id": "fac887c1",
   "metadata": {},
   "outputs": [
    {
     "data": {
      "image/png": "[encoded data removed]",
      "text/plain": [
       "<Figure size 640x480 with 1 Axes>"
      ]
     },
     "metadata": {},
     "output_type": "display_data"
    }
   ],
   "source": [
    "data[\"mental_health_risk\"].value_counts().plot(kind=\"bar\")\n",
    "plt.title(\"Distributie van mental_health_risk kolom\")\n",
    "plt.xlabel(\"Mental health risk\")\n",
    "plt.ylabel(\"Count\")\n",
    "plt.show()"
   ]
  },
  {
   "cell_type": "markdown",
   "id": "11f7dfbd",
   "metadata": {},
   "source": [
    "Het lijkt me ook handig om te kijken naar de spreiding van de numerieke kolommen. Hiervoor maak ik boxplots:"
   ]
  },
  {
   "cell_type": "code",
   "execution_count": 81,
   "id": "1aa61411",
   "metadata": {},
   "outputs": [
    {
     "data": {
      "image/png": "[encoded data removed]",
      "text/plain": [
       "<Figure size 640x480 with 1 Axes>"
      ]
     },
     "metadata": {},
     "output_type": "display_data"
    }
   ],
   "source": [
    "# boxplots met wat grotere waarden\n",
    "cols = [\"age\", \"social_support_score\", \"productivity_score\"]\n",
    "plt.boxplot(data[cols])\n",
    "plt.title(\"Boxplot van numerieke features\")\n",
    "plt.ylabel(\"Waarden\")\n",
    "plt.xticks(ticks=range(1, len(cols)+1), labels=cols, rotation=45, ha=\"right\")\n",
    "plt.show()"
   ]
  },
  {
   "cell_type": "code",
   "execution_count": 82,
   "id": "563fe715",
   "metadata": {},
   "outputs": [
    {
     "data": {
      "image/png": "[encoded data removed]",
      "text/plain": [
       "<Figure size 640x480 with 1 Axes>"
      ]
     },
     "metadata": {},
     "output_type": "display_data"
    }
   ],
   "source": [
    "# boxplots met wat kleinere waarden\n",
    "cols = [\"stress_level\", \"sleep_hours\", \"physical_activity_days\", \"depression_score\", \"anxiety_score\"]\n",
    "plt.boxplot(data[cols])\n",
    "plt.title(\"Boxplot van numerieke features\")\n",
    "plt.ylabel(\"Waarden\")\n",
    "plt.xticks(ticks=range(1, len(cols)+1), labels=cols, rotation=45, ha=\"right\")\n",
    "plt.show()"
   ]
  },
  {
   "cell_type": "markdown",
   "id": "b9a21c64",
   "metadata": {},
   "source": [
    "Het lijkt erop dat we een best wel schone dataset gekregen hebben, omdat de spreiding van de waarden mooi is en er geen (grote) uitschieters te zien zijn."
   ]
  },
  {
   "cell_type": "markdown",
   "id": "033ddb56",
   "metadata": {},
   "source": [
    "## Data Preparation"
   ]
  },
  {
   "cell_type": "markdown",
   "id": "2b5ec8ce",
   "metadata": {},
   "source": [
    "### Missende waarden\n",
    "Er zijn geen missende waarden en er staan geen rare / gekke waarden in de data. Hier hoeven we dus niks te doen."
   ]
  },
  {
   "cell_type": "markdown",
   "id": "4c6304c6",
   "metadata": {},
   "source": [
    "### Omzetten yes/no kolommen\n",
    "De 'mental_health_history' en 'seeks_treatment' kolommen bevatten yes/no waarden. Om deze kolommen later te kunnen gebruiken in een model, is het handig om deze waarden om te zetten naar enen en nullen:"
   ]
  },
  {
   "cell_type": "code",
   "execution_count": 83,
   "id": "fb3e84b8",
   "metadata": {},
   "outputs": [],
   "source": [
    "# kopie om originele data te behouden\n",
    "data_clean = data\n",
    "\n",
    "data_clean[\"mental_health_history\"] = data_clean[\"mental_health_history\"].map({\"No\": 0, \"Yes\": 1})\n",
    "data_clean[\"seeks_treatment\"] = data_clean[\"seeks_treatment\"].map({\"No\": 0, \"Yes\": 1})"
   ]
  },
  {
   "cell_type": "code",
   "execution_count": null,
   "id": "af869c2a",
   "metadata": {},
   "outputs": [],
   "source": []
  },
  {
   "cell_type": "markdown",
   "id": "87372c53",
   "metadata": {},
   "source": [
    "## Modeling"
   ]
  },
  {
   "cell_type": "markdown",
   "id": "536edbbb",
   "metadata": {},
   "source": [
    "## Evaluation"
   ]
  }
 ],
 "metadata": {
  "kernelspec": {
   "display_name": "ai-s3",
   "language": "python",
   "name": "python3"
  },
  "language_info": {
   "codemirror_mode": {
    "name": "ipython",
    "version": 3
   },
   "file_extension": ".py",
   "mimetype": "text/x-python",
   "name": "python",
   "nbconvert_exporter": "python",
   "pygments_lexer": "ipython3",
   "version": "3.13.5"
  }
 },
 "nbformat": 4,
 "nbformat_minor": 5
}
