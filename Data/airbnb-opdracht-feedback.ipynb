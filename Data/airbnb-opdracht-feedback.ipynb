{
 "cells": [
  {
   "cell_type": "markdown",
   "id": "7f7f7753",
   "metadata": {},
   "source": [
    "### **[RUBRIC FEEDBACK]**\n",
    "\n",
    "**[Algemeen]:** Over het algemeen een hele nette uitleg en data preparatie, goed gedaan! De visualisaties zijn ook netjes, maar kunnen nog iets aangevuld/uitgelegd worden.\n",
    "\n",
    "**[Visualisaties] (__Op Niveau__):** Je hebt redelijk veel (goede) visualisaties, deze zien er al mooi uit. Echter mis ik nog wel wat afwerking van de plots door de redenering erachter uit te leggen en de assen netjes op te maken.\n",
    "\n",
    "**[Data preparatie] (__Op Niveau__):** Je mist data-exploratie en bijna alle preparatie, je legt wel goed uit wat je doet en waarom. Ook is de code netjes en overzichtelijk.\n",
    "\n",
    "**[Gebruikte technieken] (__Op Niveau__):** Je gebruikt zeker voldoende technieken en tools om je data te analyseren en visualiseren.\n",
    "\n",
    "---\n",
    "#### **[FEEDBACK]**\n",
    "\n",
    "Hele nette introductie van het onderwerp, je toont duidelijk wat je gaat doen, en dit is relevant voor de lezer.\n",
    "</b>"
   ]
  },
  {
   "cell_type": "markdown",
   "id": "a1512a02",
   "metadata": {},
   "source": [
    "### Introductie\n",
    "\n",
    "Met behulp van visualisaties ga ik het volgende proberen aan te tonen over de airbnb listings in Amsterdam:\n",
    "\n",
    "- Of de locatie/wijk waarin een airbnb zich bevindt invloed heeft op de prijs.\n",
    "\n",
    "- Of er een correlatie is tussen de prijs en het aantal reviews van een airbnb.\n",
    "\n",
    "Deze informatie kan handig zijn voor iemand die overweegt een airbnb te huren in Amsterdam, en op zoek is naar een redelijke prijs."
   ]
  },
  {
   "cell_type": "markdown",
   "id": "aed12453",
   "metadata": {},
   "source": [
    "### Aanpak\n",
    "\n",
    "Eerst ga ik kijken naar alle kolommen die mogelijk relevant zijn voor het onderzoek. Ik ga kijken of deze kolommen waarden missen en/of uitschieters hebben. Als een relevante kolom veel missende waarden heeft zal ik hier een oplossing voor bedenken en toepassen. Als een relevante kolom (extreme) uitschieters bevat zal ik deze uit de dataset droppen."
   ]
  },
  {
   "cell_type": "markdown",
   "id": "64d5d957",
   "metadata": {},
   "source": [
    "### Relevante kolommen\n",
    "\n",
    "Eerst laad ik de dataset in, en kijk ik naar de kolomnamen en een paar rijen data. Ik kies de kolommen die mogelijk bruikbaar zijn voor het onderzoek:"
   ]
  },
  {
   "cell_type": "code",
   "execution_count": null,
   "id": "5ab0e06c",
   "metadata": {},
   "outputs": [],
   "source": [
    "import pandas as pd\n",
    "import matplotlib.pyplot as plt\n",
    "import seaborn as sns\n",
    "import numpy as np\n",
    "%matplotlib inline\n",
    "pd.set_option('display.max_columns', None)"
   ]
  },
  {
   "cell_type": "code",
   "execution_count": null,
   "id": "bf28971c",
   "metadata": {},
   "outputs": [],
   "source": [
    "airbnb = pd.read_csv(\"../databronnen/listings.csv.gz\")  # Path aangepast door Jesse voor het inladen van data lokaal\n",
    "\n",
    "selectie_kolommen = ['id', 'listing_url', 'name',\n",
    "       'description', 'host_id',\n",
    "       'host_name', 'host_since', \n",
    "       'host_is_superhost', 'host_listings_count',\n",
    "       'host_identity_verified', 'neighbourhood',\n",
    "       'neighbourhood_cleansed','latitude',\n",
    "       'longitude', 'property_type', 'room_type', 'accommodates', 'bathrooms',\n",
    "       'bedrooms', 'beds', 'amenities', 'price',\n",
    "       'minimum_nights', 'maximum_nights',  'has_availability',\n",
    "       'availability_30', 'number_of_reviews',\n",
    "       'number_of_reviews_ltm', \n",
    "       'review_scores_rating', 'license']\n",
    "\n",
    "airbnb = airbnb[selectie_kolommen]\n",
    "\n",
    "airbnb.head()"
   ]
  },
  {
   "cell_type": "markdown",
   "id": "790315bb",
   "metadata": {},
   "source": [
    "#### **[FEEDBACK]**\n",
    "\n",
    "Nette en code en goed opgesplitst. Om dit helemaal af te maken kan je in de markdown over de gekozen kolommen nog wat redenering toevoegen; 'Waarom heb ik deze kolom gekozen?'.\n",
    "\n",
    "---"
   ]
  },
  {
   "cell_type": "markdown",
   "id": "4af0b474",
   "metadata": {},
   "source": [
    "De kolommen die ik voor het onderzoek gekozen heb zijn de volgende:  \n",
    "- neighbourhood (de plek waar de airbnb zich bevindt)\n",
    "- neighbourhood_cleansed (de wijk waarin de airbnb zich bevindt, preciezer dan neighbourhood)\n",
    "- price (prijs per nacht)\n",
    "- number_of_reviews (aantal reviews)"
   ]
  },
  {
   "cell_type": "markdown",
   "id": "59b880c3",
   "metadata": {},
   "source": [
    "### Missende waarden\n",
    "\n",
    "Ik ga nu onderzoeken of er missende waarden zijn in deze kolommen.\n",
    "\n",
    "\n",
    "\n"
   ]
  },
  {
   "cell_type": "code",
   "execution_count": null,
   "id": "3d5f5840",
   "metadata": {},
   "outputs": [],
   "source": [
    "airbnb.info()"
   ]
  },
  {
   "cell_type": "markdown",
   "id": "cfcb7189",
   "metadata": {},
   "source": [
    "#### **[FEEDBACK]**\n",
    "\n",
    "Hele uitgebreide en goede uitleg over de missende waarden, goed gedaan! \n",
    "\n",
    "Ik adviseer je wel om niet vroeg conclusies te trekken over de kolommen aangezien een aantrekkelijke kolom mogelijk 50% uitschieters kan hebben, waardoor een andere kolom toch nuttiger kan blijken, maar dit is iets wat je niet overmatig doet, dus goed bezig!\n",
    "\n",
    "---"
   ]
  },
  {
   "cell_type": "markdown",
   "id": "43e0f9a1",
   "metadata": {},
   "source": [
    "-neighbourhood  \n",
    "De kolom mist 4910 waarden, wat behoorlijk veel is. Als ik deze kolom wil gebruiken is het geen goed idee om de missende waarden aan te vullen met bijvoorbeeld de modus, omdat dit de onderzoeksresultaten aanzienlijk zal vertekenen. Het zou beter zijn om de percentages van elke categorie te berekenen en de missende waarden met deze verdeling op te vullen.\n",
    "\n",
    "-neighbourhood_cleansed  \n",
    "Deze kolom mist geen waarden, en kan direct gebruikt worden.\n",
    "\n",
    "-price  \n",
    "Deze kolom mist 3847 waarden. Een rede hiervoor zou kunnen zijn dat de prijs variabel is, afhankelijk van bijvoorbeeld de vakantieperiode's. Ik kies ervoor om alle rijen met een missende waarde weg te gooien. Dit is een aanzienlijk deel van de data, maar ik denk dat 6321 rijen meer dan genoeg is om goede conclusies te kunnen trekken, en op deze manier hoef ik de missende waarden niet aan te vullen en blijft de data zo betrouwbaar mogelijk.\n",
    "\n",
    "-number_of_reviews  \n",
    "Deze kolom mist ook geen waarden, en kan direct gebruikt worden"
   ]
  },
  {
   "cell_type": "markdown",
   "id": "d5132e8e",
   "metadata": {},
   "source": [
    "Ik heb besloten om de kolom 'neighbourhood' niet te gebruiken. 'neighbourhood_cleansed' is een veel betere kolom, omdat deze geen missende waarden heeft en de locatie preciezer aangeeft dan 'neighbourhood'."
   ]
  },
  {
   "cell_type": "markdown",
   "id": "4ffa8a1b",
   "metadata": {},
   "source": [
    "### Outliers"
   ]
  },
  {
   "cell_type": "markdown",
   "id": "f0d4bb13",
   "metadata": {},
   "source": [
    "Voor de numerieke kolommen 'price' en 'number_of_reviews' is het belangrijk om te kijken of er uitschieters zijn. Dit doe ik met behulp van boxplots.\n",
    "\n",
    "De price kolom bevat nu nog strings met een dollar-teken voor de prijs. Ik ga eerst het dollar-teken verwijderen en de waarden omzetten naar floats, zodat er mee gerekend kan worden."
   ]
  },
  {
   "cell_type": "markdown",
   "id": "f2f234d9",
   "metadata": {},
   "source": [
    "#### **[FEEDBACK]**\n",
    "\n",
    "Netjes dat je de kolom `price` hier niet overschrijft."
   ]
  },
  {
   "cell_type": "code",
   "execution_count": null,
   "id": "574a4606",
   "metadata": {},
   "outputs": [],
   "source": [
    "airbnb['price_numeric'] = airbnb['price'].str.replace('$','').str.replace(',','').astype(float)"
   ]
  },
  {
   "cell_type": "code",
   "execution_count": null,
   "id": "32b01459",
   "metadata": {},
   "outputs": [],
   "source": [
    "airbnb.boxplot([\"price_numeric\"])\n",
    "plt.title(\"Boxplot Airbnb prijzen\")\n",
    "plt.show()"
   ]
  },
  {
   "cell_type": "markdown",
   "id": "39a21317",
   "metadata": {},
   "source": [
    "Zoals te zien is, zijn er een paar extreme uitschieters die de data vertekenen. Het zou goed kunnen dat deze hoge prijzen verkeerd ingevuld zijn. Ik ga deze uitschieters uit data verwijderen door te filteren op een prijs lager dan 8000:"
   ]
  },
  {
   "cell_type": "markdown",
   "id": "841ef5ba",
   "metadata": {},
   "source": [
    "#### **[FEEDBACK]**\n",
    "\n",
    "Wat je hier doet is niet per se fout, maar ik zou erg oplettend zijn met data wegsnijden uit je basisdataset. Als je bijvoorbeeld later de uitschieters wilt bekijken kan dit niet meer. Misschien is het versandiger om een kopie te maken van het DataFrame en hieruit de uitschieters uit te snijden."
   ]
  },
  {
   "cell_type": "markdown",
   "id": "645d176e-4746-42f3-a559-23645f1fa413",
   "metadata": {},
   "source": [
    "**[Feedback TJM]** Kijk of je hier een onderbouwde manier kan vinden om uitschieters te verwijderen. Wat we al hebben behandeld is gebuik maken van de IQR (dus bovengrens = Q3 + 1.5 * IQR), maar er zijn (veel) meer methoden om dit goed te doen. "
   ]
  },
  {
   "cell_type": "code",
   "execution_count": null,
   "id": "ffc87771",
   "metadata": {},
   "outputs": [],
   "source": [
    "airbnb = airbnb[airbnb[\"price_numeric\"] < 8000]"
   ]
  },
  {
   "cell_type": "code",
   "execution_count": null,
   "id": "7892f802",
   "metadata": {},
   "outputs": [],
   "source": [
    "airbnb.boxplot([\"price_numeric\"])\n",
    "plt.title(\"Boxplot Airbnb prijzen\")\n",
    "plt.show()"
   ]
  },
  {
   "cell_type": "markdown",
   "id": "5792dd24",
   "metadata": {},
   "source": [
    "Er zijn nog best veel datapunten die (ver) boven de box uitkomen, maar deze prijzen zijn op zich te geloven omdat Amsterdam een populaire toeristische stad is, en er veel dure panden staan.\n",
    "\n",
    "Voor de 'number_of_reviews' kolom maak ik ook een boxplot:"
   ]
  },
  {
   "cell_type": "code",
   "execution_count": null,
   "id": "58a4731b",
   "metadata": {},
   "outputs": [],
   "source": [
    "airbnb.boxplot([\"number_of_reviews\"])\n",
    "plt.title(\"Boxplot number_of_reviews\")\n",
    "plt.show()"
   ]
  },
  {
   "cell_type": "markdown",
   "id": "4ab40736",
   "metadata": {},
   "source": [
    "Ook hier zijn een paar uitschieters te zien. Een mogelijke verklaring zou kunnen zijn dat de host gesjoemeld heeft, en zelf reviews heeft achtergelaten op zijn/haar airbnb. Dit is echter niet zeker. Ik kies ervoor om de grootste uitschieters te verwijderen door te filteren op een aantal reviews lager dan 2000:"
   ]
  },
  {
   "cell_type": "code",
   "execution_count": null,
   "id": "e09aac37",
   "metadata": {},
   "outputs": [],
   "source": [
    "airbnb = airbnb[airbnb[\"number_of_reviews\"] < 2000]"
   ]
  },
  {
   "cell_type": "code",
   "execution_count": null,
   "id": "b9bc4714",
   "metadata": {},
   "outputs": [],
   "source": [
    "airbnb.boxplot([\"number_of_reviews\"])\n",
    "plt.title(\"Boxplot number_of_reviews\")\n",
    "plt.show()"
   ]
  },
  {
   "cell_type": "markdown",
   "id": "837cfef3",
   "metadata": {},
   "source": [
    "Ook voor deze kolom zijn er nog best veel datapunten die (ver) buiten de box liggen. Ik vind dat deze datapunten nog wel betrouwbaar genoeg zijn om erin te laten. Airbnb bestaat al 17 jaar, wat het realistisch maakt dat sommige airbnb's meer dan 1000 reviews hebben."
   ]
  },
  {
   "cell_type": "markdown",
   "id": "48172a81",
   "metadata": {},
   "source": [
    "### Visualisatie 1"
   ]
  },
  {
   "cell_type": "markdown",
   "id": "7a9a018d",
   "metadata": {},
   "source": [
    "Met deze barplot probeer ik te laten zien of er verschil in gemiddelde prijs zit tussen wijken:"
   ]
  },
  {
   "cell_type": "code",
   "execution_count": null,
   "id": "9e651af9",
   "metadata": {},
   "outputs": [],
   "source": []
  },
  {
   "cell_type": "markdown",
   "id": "7174a59a",
   "metadata": {},
   "source": [
    "#### **[FEEDBACK]**\n",
    "\n",
    "Technisch gezien is deze grafiek correct, maar er zijn een paar punten die verbeterd kunnen worden:\n",
    "- De labels op de x-as zijn moeilijk leesbaar door de hoek en lengte, je kan mogelijk de assen omdraaien en/of onnodige informatie weghalen zoals `Amsterdam` en `, Netherlands`.\n",
    "- Er is geen eenheid (valutasymbool) bij de y-as, wat handig kan zijn om toe te voegen.\n",
    "- Sommige waarden worden uit proportie getrokken aangezien die maar één of twee airbnb's in die wijk hebben, wat de gemiddelde prijs kan beïnvloeden. Het kan helpen om een minimum aantal airbnb's per wijk te eisen, dit uit te leggen in de tekst. \n",
    "- In hetzelfde kader kan het sowieso handig zijn om een analyse te doen van de spreiding of counts per wijk, zodat je een beter beeld krijgt van de data voordat je gaat visualiseren.\n",
    "\n",
    "---"
   ]
  },
  {
   "cell_type": "code",
   "execution_count": null,
   "id": "5103e699",
   "metadata": {},
   "outputs": [],
   "source": [
    "ax = sns.barplot(x=\"neighbourhood\", y=\"price_numeric\", data=airbnb)\n",
    "plt.xticks(rotation=90)\n",
    "plt.title(\"Gemiddelde Airbnb-prijs per wijk\")\n",
    "plt.show()"
   ]
  },
  {
   "cell_type": "markdown",
   "id": "4edd53a3",
   "metadata": {},
   "source": [
    "Het valt op dat er best een grote spreiding in gemiddelde prijs zit tussen verschillende wijken. Zo kost een airbnb in de goedkoopste wijk gemiddeld rond de 50 euro per nacht, en in de duurste wijk ongeveer 775 euro per nacht.\n",
    "\n",
    "Conclusie: De wijk waarin een airbnb staat heeft zeker invloed op de vraagprijs."
   ]
  },
  {
   "cell_type": "markdown",
   "id": "7fed1dfc",
   "metadata": {},
   "source": [
    "### Visualisatie 2"
   ]
  },
  {
   "cell_type": "markdown",
   "id": "d433f528",
   "metadata": {},
   "source": [
    "#### **[FEEDBACK]**\n",
    "\n",
    "Deze grafiek wordt ook al netjes, maar er mag iets meer uitgelegd worden over de keuzes m.b.t. de visualisatie.\n",
    "\n",
    "Met name zou ik graag zien waarom je voor een log-log plot hebt gekozen, aangezien dit niet een ideale keuze **kan** zijn voor een dataset die bijvoorbeeld een hoge lineaire correlatie heeft, dit valt veel minder goed te zien op de log-log plot.\n",
    "\n",
    "Ook is het lastige om de correlatie precies te bepalen door de dichtheid van de punten, maar dit is iets wat lastig te overkomen is.\n",
    "\n",
    "---"
   ]
  },
  {
   "cell_type": "markdown",
   "id": "b7458bac",
   "metadata": {},
   "source": [
    "Met deze scatterplot probeer ik aan te tonen of er een verband is tussen het aantal reviews en de prijs van een airbnb:"
   ]
  },
  {
   "cell_type": "code",
   "execution_count": null,
   "id": "e9a32516",
   "metadata": {},
   "outputs": [],
   "source": [
    "sns.scatterplot(x=\"number_of_reviews\", y=\"price_numeric\", data=airbnb)\n",
    "#plt.xscale(\"log\")   # optioneel, als er hele grote uitschieters zijn\n",
    "#plt.yscale(\"log\")   # idem\n",
    "plt.xlabel(\"Aantal reviews\")\n",
    "plt.ylabel(\"Prijs\")\n",
    "plt.title(\"Relatie tussen prijs en aantal reviews\")\n",
    "plt.show()"
   ]
  },
  {
   "cell_type": "markdown",
   "id": "d495e32c",
   "metadata": {},
   "source": [
    "Het valt op dat er verticale lijnen met datapunten in de plot verschijnen. Dit komt doordat ik een logaritmische schaal gebruik op de x-as.\n",
    "\n",
    "Conclusie: Er is geen duidelijk verband te zien tussen het aantal reviews en de prijs van een airbnb. Het lijkt erop dat de prijs iets zakt naarmate het aantal reviews stijgt, maar ik vind dat deze trend niet duidelijk genoeg is om er conclusies uit te trekken."
   ]
  }
 ],
 "metadata": {
  "kernelspec": {
   "display_name": "ai-s3",
   "language": "python",
   "name": "python3"
  },
  "language_info": {
   "codemirror_mode": {
    "name": "ipython",
    "version": 3
   },
   "file_extension": ".py",
   "mimetype": "text/x-python",
   "name": "python",
   "nbconvert_exporter": "python",
   "pygments_lexer": "ipython3",
   "version": "3.13.5"
  }
 },
 "nbformat": 4,
 "nbformat_minor": 5
}
