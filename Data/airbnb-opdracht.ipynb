{
 "cells": [
  {
   "cell_type": "code",
   "execution_count": null,
   "id": "e667fbac",
   "metadata": {},
   "outputs": [],
   "source": [
    "#dit is testcode"
   ]
  },
  {
   "cell_type": "markdown",
   "id": "079af320",
   "metadata": {},
   "source": [
    "blablbabla"
   ]
  }
 ],
 "metadata": {
  "language_info": {
   "name": "python"
  }
 },
 "nbformat": 4,
 "nbformat_minor": 5
}
