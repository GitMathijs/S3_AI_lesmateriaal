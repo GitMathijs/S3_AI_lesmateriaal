{
 "cells": [
  {
   "cell_type": "markdown",
   "metadata": {},
   "source": [
    "# Data les 1 - numpy, beschrijvende statistiek en boxplots"
   ]
  },
  {
   "cell_type": "markdown",
   "metadata": {},
   "source": [
    "Notebook bij les 1 van de leerlijn data van S3 - AI. \n",
    "\n",
    "© Auteur: Rianne van Os"
   ]
  },
  {
   "cell_type": "markdown",
   "metadata": {},
   "source": [
    "**Voorbereiding voor les 1:**\n",
    "- Lees de theorie in dit notebook en maak de opdrachten uit dit notebook t/m het kopje **Elementen selecteren**, dat is t/m **Opdracht 3.1**"
   ]
  },
  {
   "cell_type": "markdown",
   "metadata": {},
   "source": [
    "Dit notebook bevat theorie en oefenopdrachten voor de leerlijn data van het Data Science semester van AI. Binnen deze leerlijn leer je alle databewerkingen die je nodig hebt om een goede data science pipeline te maken. Ook behandelen we relevante beschrijvende statistiek en datavisualisatie. Dit alles kun je gebruiken in de *Data Understanding* en de *Data preparation* stappen van CRISP-DM. Aan het eind van deze lessenreeks kun je het portfolio item *Airbnb dashboard* inleveren.\n",
    "\n",
    "In deze eerste les gaan jullie kennismaken met de python library numpy. Numpy staat voor *numerical python* en deze library is geoptimaliseerd om met data om te kunnen gaan. Deze library bevat een array-object. Hierin kun je data opslaan en je kunt bewerkingen uitvoeren op de data in de array. In onderstaande opdrachten laten we je kennismaken met dit object en zul je zelf gaan ervaren dat berekeningen hiermee veel efficiënter zijn dan met, bijvoorbeeld, een python list. \n",
    "\n",
    "Het is een beetje droge stof, maar het helpt je later in de toepassing als je weet wat er mogelijk is met numpy. We behandelen uiteraard niet alles wat numpy kan, gebruik de documentatie, google of een LLM als je dingen met arrays wilt doen die we hier nog niet hebben laten zien.\n",
    "\n",
    "We gaan deze les ook een begin maken met beschrijvende statistiek. We herhalen centrum- en spreidingsmaten en introduceren de boxplot. Je gaat ook zien hoe je numpy kunt gebruiken om deze maten te berekenen."
   ]
  },
  {
   "cell_type": "markdown",
   "metadata": {},
   "source": [
    "Om te starten met numpy moeten we de library eerst importeren. Het is gebruikelijk om dit te doen `as np`."
   ]
  },
  {
   "cell_type": "code",
   "execution_count": null,
   "metadata": {},
   "outputs": [],
   "source": [
    "# import library\n",
    "import numpy as np"
   ]
  },
  {
   "cell_type": "markdown",
   "metadata": {},
   "source": [
    "## Arrays aanmaken"
   ]
  },
  {
   "cell_type": "markdown",
   "metadata": {},
   "source": [
    "We bekijken verschillende manieren om 1-dimensionale arrays te maken."
   ]
  },
  {
   "cell_type": "code",
   "execution_count": null,
   "metadata": {},
   "outputs": [],
   "source": [
    "# aanmaken van een array vanuit een python list\n",
    "arr = np.array([1,4,2,5,3])\n",
    "arr"
   ]
  },
  {
   "cell_type": "code",
   "execution_count": null,
   "metadata": {},
   "outputs": [],
   "source": [
    "# aanmaken van een array vanuit een range definitie\n",
    "range_array = np.arange(0,20)  # van 0 tot 20 (exclusief)\n",
    "range_array"
   ]
  },
  {
   "cell_type": "code",
   "execution_count": null,
   "metadata": {},
   "outputs": [],
   "source": [
    "# of met stappen van 2\n",
    "range_array2 = np.arange(0,20,2)  # van 0 tot 20 (exclusief) met stappen van 2\n",
    "range_array2"
   ]
  },
  {
   "cell_type": "code",
   "execution_count": null,
   "metadata": {},
   "outputs": [],
   "source": [
    "# een array met enkel nullen\n",
    "array_with_zeros = np.zeros(10)\n",
    "array_with_zeros"
   ]
  },
  {
   "cell_type": "code",
   "execution_count": null,
   "metadata": {},
   "outputs": [],
   "source": [
    "#een array met enkel enen\n",
    "array_with_ones = np.ones(10)\n",
    "array_with_ones"
   ]
  },
  {
   "cell_type": "code",
   "execution_count": null,
   "metadata": {},
   "outputs": [],
   "source": [
    "# een array met random getallen tussen 0 en 1 (zie: https://numpy.org/doc/stable/reference/random/generated/numpy.random.rand.html)\n",
    "random_float_array = np.random.rand(10)\n",
    "random_float_array"
   ]
  },
  {
   "cell_type": "code",
   "execution_count": null,
   "metadata": {},
   "outputs": [],
   "source": [
    "#een array met random getallen tussen 0 en 100 (zie: https://numpy.org/doc/stable/reference/random/generated/numpy.random.randint.html)\n",
    "random_int_array = np.random.randint(0,100,10)\n",
    "random_int_array"
   ]
  },
  {
   "cell_type": "markdown",
   "metadata": {},
   "source": [
    "Hierboven zagen we het gebruik van `np.arange` om een array te maken met een getallen met een vast interval. Arange werkt goed met gehele getallen (integers), maar wil je komma-getallen (floats), dan kun je beter gebruiken maken van `np.linspace`. Dit geeft een aantal getallen terug op een gegeven interval, waarbij de afstand tussen de getallen even groot is. (zie: https://numpy.org/doc/stable/reference/generated/numpy.linspace.html). Dit ga je later bij maken van visualisatie gebruiken, bijvoorbeeld om $x$-waarden te genereren om een functie $f(x)$ te plotten."
   ]
  },
  {
   "cell_type": "code",
   "execution_count": null,
   "metadata": {},
   "outputs": [],
   "source": [
    "array_linspace= np.linspace(0,1,11) # 11 getallen van 0 t/m 1\n",
    "array_linspace\n",
    "\n",
    "#Voor de leesbaarheid kun je ook de namen van de parameters meegeven, dan ziet het er zo uit:\n",
    "array_linspace = np.linspace(start=0, stop=1, num=11)\n",
    "array_linspace"
   ]
  },
  {
   "cell_type": "markdown",
   "metadata": {},
   "source": [
    "## Berekeningen uitvoeren met numpy arrays\n",
    "Vervolgens kunnen we wiskundige berekeningen uitvoeren op deze numpy arrays:"
   ]
  },
  {
   "cell_type": "code",
   "execution_count": null,
   "metadata": {},
   "outputs": [],
   "source": [
    "#Vermenigvuldig alle elementen uit range_array met 3\n",
    "range_array*3"
   ]
  },
  {
   "cell_type": "markdown",
   "metadata": {},
   "source": [
    "Merk op, hier wordt een nieuwe array aangemaakt, `range_array` is onverandert."
   ]
  },
  {
   "cell_type": "code",
   "execution_count": null,
   "metadata": {},
   "outputs": [],
   "source": [
    "# we kunnen arrays van elkaar aftrekken:\n",
    "random_float_array - array_with_ones"
   ]
  },
  {
   "cell_type": "code",
   "execution_count": null,
   "metadata": {},
   "outputs": [],
   "source": [
    "#Of bij ieder element een vaste waarde optellen\n",
    "range_array + 5"
   ]
  },
  {
   "cell_type": "code",
   "execution_count": null,
   "metadata": {},
   "outputs": [],
   "source": [
    "#Of andere wiskundige berekeningen uitvoeren (bijvoorbeeld de wortel trekken), dit gaat allemaal element-wise:\n",
    "np.sqrt(range_array)"
   ]
  },
  {
   "cell_type": "markdown",
   "metadata": {},
   "source": [
    "### Data opdracht 1.1\n",
    "1. Maak een numpy array aan met de getallen van 0 tot 100 (exclusief) met stappen van 5.\n",
    "2. Tel 10 op bij alle elementen van de array uit 1.\n",
    "3. Maak een numpy array aan met 5 random getallen tussen 0 en 1.\n",
    "4. Maak een numpy array aan met 20 random gehele getallen tussen 1 en 50. Bedenk goed wat de parameters moeten zijn, als je 1 en 50 wel of niet mee wilt nemen. \n",
    "5. Maak een numpy array aan met 100 nullen.\n",
    "6. Maak een numpy array aan met 50 getallen tussen 0 en 5, waarbij het interval tussen alle getallen gelijk is. Bedenk goed wat de parameters moeten zijn, als je 0 en 5 zelf of niet mee wilt nemen. \n",
    "7. Vermenigvuldig alle getallen uit de vorige array met 3.\n",
    "8. Trek de array uit 6. af van de array uit 7."
   ]
  },
  {
   "cell_type": "code",
   "execution_count": null,
   "metadata": {},
   "outputs": [],
   "source": [
    "# 1\n",
    "my_array = np.arange(0, 100, 5)\n",
    "my_array"
   ]
  },
  {
   "cell_type": "code",
   "execution_count": null,
   "metadata": {},
   "outputs": [],
   "source": [
    "# 2\n",
    "my_array + 10"
   ]
  },
  {
   "cell_type": "code",
   "execution_count": null,
   "metadata": {},
   "outputs": [],
   "source": [
    "# 3\n",
    "my_random_array = np.random.rand(5)\n",
    "my_random_array"
   ]
  },
  {
   "cell_type": "code",
   "execution_count": null,
   "metadata": {},
   "outputs": [],
   "source": [
    "# 4\n",
    "my_random_ints_array = np.random.randint(2, 50, 20) # TUSSEN 1 en 50 --> 2 t/m 49\n",
    "my_random_ints_array"
   ]
  },
  {
   "cell_type": "code",
   "execution_count": null,
   "metadata": {},
   "outputs": [],
   "source": [
    "# 5\n",
    "my_zero_array = np.zeros(100)\n",
    "my_zero_array"
   ]
  },
  {
   "cell_type": "code",
   "execution_count": null,
   "metadata": {},
   "outputs": [],
   "source": [
    "# 6\n",
    "my_linspace_array = np.linspace(0, 5, 50, endpoint=False)\n",
    "my_linspace_array # het beginpunt (0) wordt altijd meegenomen, het eindpunt kan optioneel worden weggelaten met endpoint=False"
   ]
  },
  {
   "cell_type": "code",
   "execution_count": null,
   "metadata": {},
   "outputs": [],
   "source": [
    "# 7\n",
    "my_new_linspace_array = my_linspace_array * 3\n",
    "my_new_linspace_array"
   ]
  },
  {
   "cell_type": "code",
   "execution_count": null,
   "metadata": {},
   "outputs": [],
   "source": [
    "# 8\n",
    "my_final_array = my_new_linspace_array - my_linspace_array\n",
    "my_final_array"
   ]
  },
  {
   "cell_type": "markdown",
   "metadata": {},
   "source": [
    "## Meerdimensionale arrays\n",
    "We hebben in de voorbeelden hierboven arrays van 1 dimensie gemaakt. Maar we kunnen ook arrays van meerdere dimensies maken."
   ]
  },
  {
   "cell_type": "code",
   "execution_count": null,
   "metadata": {},
   "outputs": [],
   "source": [
    "#Een 2-dimensionale array. Deze array heeft 3 rijen en 3 kolommen.\n",
    "twee_dim_array = np.array([[1,2,3],[4,5,6],[7,8,9]])\n",
    "twee_dim_array"
   ]
  },
  {
   "cell_type": "code",
   "execution_count": null,
   "metadata": {},
   "outputs": [],
   "source": [
    "# Een 2-dimensional array met enkel nullen, met 2 rijen en 3 kolommen\n",
    "twee_dim_array_met_zeros = np.zeros((2,3))\n",
    "twee_dim_array_met_zeros"
   ]
  },
  {
   "cell_type": "code",
   "execution_count": null,
   "metadata": {},
   "outputs": [],
   "source": [
    "#Een 2-dimensional array met random getallen tussen 0 en 1, met 5 rijen en 2 kolommen\n",
    "twee_dim_array_random = np.random.rand(5,2)\n",
    "twee_dim_array_random"
   ]
  },
  {
   "cell_type": "markdown",
   "metadata": {},
   "source": [
    "Je kunt de dimensie van arrays zo hoog maken als je wilt, al zul je in dit semester meestal genoeg hebben aan 2 dimensies. Hieronder een voorbeeld met 3 dimensies."
   ]
  },
  {
   "cell_type": "code",
   "execution_count": null,
   "metadata": {},
   "outputs": [],
   "source": [
    "#Een 3-dimensionale array. Deze array heeft 2 lagen, 3 rijen en 4 kolommen.\n",
    "drie_dim_array = np.array([[[1,2,3,4],[5,6,7,8],[9,10,11,12]],[[13,14,15,16],[17,18,19,20],[21,22,23,24]]])\n",
    "drie_dim_array"
   ]
  },
  {
   "cell_type": "markdown",
   "metadata": {},
   "source": [
    "## Attributen van een array\n",
    "Een array heeft verschillende attributen, waarvan de belangrijkste zijn: `shape`, `size` en `dtype`. Hieronder zie je hoe je deze attributen kunt opvragen. (Extra: lees hier meer over numpy dtypes: https://www.geeksforgeeks.org/numpy-data-types/)"
   ]
  },
  {
   "cell_type": "code",
   "execution_count": null,
   "metadata": {},
   "outputs": [],
   "source": [
    "#Een voorbeeld:\n",
    "print('De dimensies van np11 zijn: {}'.format(twee_dim_array.shape))\n",
    "print('Het type van de elementen in np11 is: {}'.format(twee_dim_array.dtype))\n",
    "print('Heta aantal elementen in np11 is: {}'.format(twee_dim_array.size))"
   ]
  },
  {
   "cell_type": "markdown",
   "metadata": {},
   "source": [
    "### Data opdracht 1.2\n",
    "1. Maak een 2-dimensionale array met 15 random getallen tussen 0 en 100, met shape (3,5). Print de shape, het datatype en het aantal elementen van deze array.\n",
    "2. Maak een 2-dimensionale array met 10 nullen, verdeeld over 2 rijen en 5 kolommen. Print de shape, het datatype en het aantal elementen van deze array.\n",
    "3. Maak een 2-dimensionale array met 3 rijen en 20 kolommen. De eerste rij bevat het interval van 1 t/m 2, in 20 stappen. De tweede rij bevat het interval 2 t/m 3, in 20 stappen, en de derde rij bevat het interval 3 t/m 4, in 20 stappen. Print de shape, het datatype en het aantal elementen van deze array. Je zou hier gebruik kunnen maken van de functie `.reshape(..)`, zie: https://numpy.org/doc/stable/reference/generated/numpy.reshape.html\n",
    "4. Maak een array met alleen maar nullen, met dezelfde dimensies als de array uit 3. Maak daarbij gebruik van `np.zeros_like(..)` (zie: https://numpy.org/doc/2.2/reference/generated/numpy.zeros_like.html)"
   ]
  },
  {
   "cell_type": "markdown",
   "metadata": {},
   "source": [
    "## Elementen selecteren\n",
    "\n",
    "Net als bij een python list kun je delen van een array selecteren, met behulp van de index, slices of boolean masks. Hieronder een paar voorbeelden:"
   ]
  },
  {
   "cell_type": "code",
   "execution_count": null,
   "metadata": {},
   "outputs": [],
   "source": [
    "arr2 = np.arange(10,100,10)\n",
    "arr2"
   ]
  },
  {
   "cell_type": "code",
   "execution_count": null,
   "metadata": {},
   "outputs": [],
   "source": [
    "# Selecteren met individuele indices\n",
    "print(\"Element met index 3: \", arr2[3]) \n",
    "print(\"Laatste element: \", arr2[-1])   "
   ]
  },
  {
   "cell_type": "code",
   "execution_count": null,
   "metadata": {},
   "outputs": [],
   "source": [
    "# Selecteren met slices [begin:eind] of [begin:eind:stapgrootte]\n",
    "print(\"Elementen met index 2 tot 6 (exclusief):\", arr2[2:6])  \n",
    "print(\"Elementen vanaf index 5:\", arr2[5:])\n",
    "print(\"Elementen tot index 4 (exclusief):\", arr2[:4])  \n",
    "print(\"Om de twee elementen:\", arr2[::2]) \n",
    "print(\"Array in omgekeerde volgorde:\", arr2[::-1])"
   ]
  },
  {
   "cell_type": "code",
   "execution_count": null,
   "metadata": {},
   "outputs": [],
   "source": [
    "# Selecteren met boolean masks\n",
    "mask = arr2 > 50 \n",
    "print(\"Boolean mask (np13 > 50):\", mask) \n",
    "print(\"Elementen waar np13 > 50:\", arr2[mask])\n",
    "\n",
    "# Of direct met de conditie als index\n",
    "print(\"Elementen deelbaar door 20:\", arr2[arr2 % 20 == 0])"
   ]
  },
  {
   "cell_type": "markdown",
   "metadata": {},
   "source": [
    "Heb je nooit eerder gebruik gemaakt van een boolean mask? Zie dan bijvoorbeeld deze blog voor meer uitleg: https://www.programiz.com/python-programming/numpy/boolean-indexing. Ook zullen we hier in het college op in gaan."
   ]
  },
  {
   "cell_type": "markdown",
   "metadata": {},
   "source": [
    "Je kunt deze selecties ook gebruiken om de waarde van elementen aan te passen:"
   ]
  },
  {
   "cell_type": "code",
   "execution_count": null,
   "metadata": {},
   "outputs": [],
   "source": [
    "#maak de eerste 5 elementen 0\n",
    "arr2[:5] = 0\n",
    "arr2"
   ]
  },
  {
   "cell_type": "markdown",
   "metadata": {},
   "source": [
    "Voor een 2D array werkt het soortgelijk:"
   ]
  },
  {
   "cell_type": "code",
   "execution_count": null,
   "metadata": {},
   "outputs": [],
   "source": [
    "#Creeër een 2D array:\n",
    "arr3 = np.array([[1, 2, 3, 4], [5, 6, 7, 8], [9, 10, 11, 12]])\n",
    "print(arr3)"
   ]
  },
  {
   "cell_type": "code",
   "execution_count": null,
   "metadata": {},
   "outputs": [],
   "source": [
    "#selecties uit een 2D array:\n",
    "print(\"Element op rij 1, kolom 2:\", arr3[1, 2])  \n",
    "print(\"Gehele tweede rij:\", arr3[1,:]) \n",
    "print(\"Gehele derde kolom:\", arr3[:, 2])\n",
    "print(\"Eerste 2 rijen, laatste 2 kolommen:\\n\", arr3[:2, -2:])\n",
    "\n",
    "# Maak 0 van het element in de eerste rij en eerste kolom:\n",
    "arr3[0,0] = 0\n",
    "print(\"Het element op met index [0,0] is aangepast:\\n\", arr3)"
   ]
  },
  {
   "cell_type": "markdown",
   "metadata": {},
   "source": [
    "### Data opdracht 1.3\n",
    "\n",
    "De blokcoördinator D.O. Cent van blok A  wil graag de cijfers analyseren en verwerken. Het blok bestaat uit 3 vakken, die door 10 studenten gevolgd zijn. Analyse omvat o.a. het bepalen van gemiddelde cijfer, het aantal voldoendes en cursusrendement. De verwerking bestaat uit het corrigeren van de cijfers.\n",
    "\n",
    "In `blokAcijfers.txt` staan de cijfers per vak (naast elkaar staan de vakken, onder elkaar de studenten):\n",
    "\n",
    "vak1 | vak2 | vak3\n",
    "----|-------|------\n",
    "6.5 | 7.3   | 6.4\n",
    "8.0 | 8.0\t| 8.5\n",
    "3.2\t| 4.0\t| 5.0\n",
    "7.9\t| 7.1\t| 3.5\n",
    "7.3\t| 7.8\t| 8.0\n",
    "8.6\t| 8.0\t| 9.0\n",
    "4.0\t| 6.0\t| 5.5\n",
    "7.3\t| 7.8\t| 7.8\n",
    "4.5\t| 5.6\t| 7.7\n",
    "5.0\t| 7.0\t| 7.2\n"
   ]
  },
  {
   "cell_type": "markdown",
   "metadata": {},
   "source": [
    "1. Lees het bestand `blokAcijfers.txt` in als een numpy array genaamd cijfers. Zie hier hoe dat moet (https://numpy.org/doc/stable/reference/generated/numpy.loadtxt.html). Toon de array, de dimensie van de array, het datatype van de elementen en het totaal aantal elementen in de array.\n",
    "2. Maak een numpy array genaamd student2 aan die alle cijfers bevat van de 2e student.\n",
    "3. Maak een numpy array genaamd vak1 aan die alle cijfers bevat van vak1.\n",
    "4. De docent ziet dat er 2 cijfers fout zijn en wil deze corrigeren\n",
    "    -\tWijzig de volgende cijfers:\n",
    "        *\tvak-2, student-3  cijfer 4.0 moet 4.3 worden.\n",
    "        *\tvak-1, student-10, cijfer 5.0 moet 4.8 worden.\n",
    "5. Er is een fout gemaakt bij de cijfers van het 1e vak. Iedere student krijgt 0.5 punt extra erbij.\n",
    "    -\tVul een ‘ophoogarray’ bestaande uit 3 kolommen en elk 10 rijen en vul deze eerst met 0.0 en daarna de eerste rij met de waarden 0.5.\n",
    "    -\tTel de ophoogarray op bij de cijfer array.\n",
    "6. De docent wil een lijstje waarin hij in één opslag ziet waar een voldoende (`True`) en waar een onvoldoende (`False`) staat.  \n",
    "    -\tMaakt dit lijstje."
   ]
  },
  {
   "cell_type": "markdown",
   "metadata": {},
   "source": [
    "## Centrum- en spreidingsmaten en de boxplot\n",
    "\n",
    "In vorige semesters heb je al verschillende maten geleerd om data te beschrijven. Namelijk centummaten (*measures of central tendency*) en spreidingsmaten (*measures of dispersion*). We breiden die kennis nu uit met wat extra maten en je gaat uitzoeken hoe je deze maten met numpy kunt berekenen. \n",
    "\n",
    "Alle centrum- en spreidingsmaten die je moet kennen worden uitgelegd in dit blog: https://blog.bijleshuis.be/statistiek-centrummaten-spreidingsmaten. Ook wordt er laten zien hoe je een boxplot moet maken. Lees dit en bekijk de voorbeelden. Merk op: de **variatiecoëffient** hoef je niet te kennen.)\n",
    "\n",
    "\n"
   ]
  },
  {
   "cell_type": "markdown",
   "metadata": {},
   "source": [
    "In dit blog wordt in de boxplot de minimum- en de maximumwaarde weergegeven in de *whiskers* (dit zijn de streepjes ). Vaak wordt in plaats van deze waarden, een andere satistiek weergegeven. Hiervoor bereken je eerst de *inter quartile range*. Dit is het verschil tussen $Q_3$ en $Q_1$, dus $IQR = Q_3 - Q_1$.\n",
    "\n",
    "In plaats van het minimum wordt dan als ondergrens $Q1 - 1.5 \\cdot IQR$ weergegeven, tenzij dit kleiner is dan het minimum, dan toon je gewoon het minimum.\n",
    "In plaats van het maximum wordt de bovengrens $Q3 + 1.5 \\cdot IQR$ weergegeven, tenzij deze waarde groter is dan het maximum, ook dan toon je gewoon het maximum.\n",
    "\n",
    "De waarden die buiten $Q1 - 1.5 \\cdot IQR$ en  $Q3 + 1.5 \\cdot IQR$ vallen worden ook wel *outliers* genoemd. In de boxplot geef je deze waarden dan als stippen neer."
   ]
  },
  {
   "cell_type": "markdown",
   "metadata": {},
   "source": [
    "### Data opdracht 1.4\n",
    "We bekijken opnieuw de (afgeronde) cijfers van vak1 uit de vorige opdracht. Dit zijn [7,8,3,8,7,9,4,7,5,5]."
   ]
  },
  {
   "cell_type": "markdown",
   "metadata": {},
   "source": [
    "1. Bepaal handmatig:\n",
    "    - Gemiddelde\n",
    "    - Modus\n",
    "    - Mediaan\n",
    "    - Variantie\n",
    "    - Standaard deviatie\n",
    "2. Maak een numpy array met deze cijfers en bereken bovenstaande maten met behulp van numpy. Zoek zelf in de documentatie (of op google of een LLM) welke numpy functionaliteit je daarvoor moet gebruiken. Merk op: de modus is lastig te bepalen met numpy. Hiervoor kun je gebruik maken van het `scipy` library. Dit is een library met veel statistische functies. (zie: https://docs.scipy.org/doc/scipy/reference/generated/scipy.stats.mode.html) Om dit te kunnen gebruiken moet je SciPy eerst installeren en importeren.\n",
    "3. Teken (met pen en papier) een boxplot van de afgeronde cijfers van vak1 en vak2. Teken de boxplots op zo'n manier naast elkaar dat je goed de cijfers van de vakken met elkaar kunt vergelijken.\n",
    "4. Gebruik `np.percentile()` om te controleren of je de juiste getallen hebt gebruikt in je boxplot (zie: https://numpy.org/doc/stable/reference/generated/numpy.percentile.html )"
   ]
  },
  {
   "cell_type": "markdown",
   "metadata": {},
   "source": [
    "## Statistieken in een 2D array\n",
    "In de vorige opdracht heb je uitgezocht welke numpy functionaliteit je kunt gebruiken om bepaalde statistieken uit te rekenen. Dit heb je in de opdracht toegepast op een 1-dimenionsale array. Als je dit op een 2-dimensionale array toepast, kun je kiezen of je de statistieken uit wilt rekenen over alle elementen uit de array, of je de statistiek per rij of per kolom wilt weten. Voor het uitrekenen per rij of per kolom moet je de `axis` parameter gebruiken. Een voorbeeld:"
   ]
  },
  {
   "cell_type": "code",
   "execution_count": null,
   "metadata": {},
   "outputs": [],
   "source": [
    "#Maak een array met 20 cijfers\n",
    "np15 = np.arange(0,20)\n",
    "# We gebruiken reshape om hier een 2D-array van te maken met shape (4,5)\n",
    "np15 = np15.reshape(4,5)\n",
    "np15"
   ]
  },
  {
   "cell_type": "markdown",
   "metadata": {},
   "source": [
    "Roepen we nu `np.mean` aan op deze array, dan krijgen we het gemiddelde van alle getallen:"
   ]
  },
  {
   "cell_type": "code",
   "execution_count": null,
   "metadata": {},
   "outputs": [],
   "source": [
    "np.mean(np15)"
   ]
  },
  {
   "cell_type": "markdown",
   "metadata": {},
   "source": [
    "Maar we kunnen ook het gemiddelde per rij berekenen. We hebben 4 rijen, dus dan krijgen we 4 getallen terug. Hiervoor gebruiken we de paramter `axis = 1`."
   ]
  },
  {
   "cell_type": "code",
   "execution_count": null,
   "metadata": {},
   "outputs": [],
   "source": [
    "np.mean(np15, axis = 1)"
   ]
  },
  {
   "cell_type": "markdown",
   "metadata": {},
   "source": [
    "Het gemiddelde per kolom is ook mogelijk, met `axis = 0`:"
   ]
  },
  {
   "cell_type": "code",
   "execution_count": null,
   "metadata": {},
   "outputs": [],
   "source": [
    "np.mean(np15, axis = 0)"
   ]
  },
  {
   "cell_type": "markdown",
   "metadata": {},
   "source": [
    "### Data opdracht 1.5\n",
    "\n",
    "We bekijken opnieuw de cijfers uit `blokAcijfers.txt`. \n",
    "\n",
    "1. Bepaal minimum, maximum en gemiddelde van alle cijfers.\n",
    "2. Bepaal minimum, maximum en gemiddelde van elk vak (3 getallen).\n",
    "3. Bepaal minimum, maximum en gemiddelde van elke student (10 getallen).\n",
    "4. De docent wil graag zien wat de cijfers zijn als ze afgerond worden op hele getallen.\n",
    "    -\tKopieer de array naar een nieuwe array.\n",
    "    -\tRond de waarden af. (Zoek zelf naar de juiste functie hiervoor.)\n",
    "    -\tLaat de resultaten zien."
   ]
  },
  {
   "cell_type": "markdown",
   "metadata": {},
   "source": [
    "## Efficiëntie van numpy-arrays"
   ]
  },
  {
   "cell_type": "markdown",
   "metadata": {},
   "source": [
    "We hebben hierboven al genoemd dat numpy arrays veel efficienter zijn dan python lists. Lees dit blog om erachter te komen waarom. Vooral het stuk onder het kopje **Comparison between Numpy array and Python List** is relevant. https://www.geeksforgeeks.org/python-lists-vs-numpy-arrays/"
   ]
  },
  {
   "cell_type": "markdown",
   "metadata": {},
   "source": [
    "### Data opdracht 1.6\n",
    "\n",
    "In deze opdracht ga je zelf de verschillen tussen python lists en numpy arrays onderzoeken.\n",
    "\n",
    "1. Maak een list `lst` met 1.000.001 willekeurige getallen tussen 0 en 10 (gebruik `random.randint(0, 10)`)\n",
    "2. Bepaal de mediaan\n",
    "3. Maak een list met daarin het kwadraat van elk element in `lst`\n",
    "4. Maak een list met daarin alleen alle even getallen uit `lst`\n",
    "5. Maak een tweede list `lst2` met 1.000.001 willekeurige getallen\n",
    "6. Maak een list met daarin de som van de elementen uit `lst` en `lst2`, dus:\n",
    "    - `lst_samen[0] = lst[0] + lst2[0]`,\n",
    "    - `lst_samen[1] = lst[1] + lst2[1]`,\n",
    "    - etc.\n",
    "\n",
    "7. Doe bovenstaande ook met Numpy\n",
    "Gebruik `%timeit` voor je code om de snelheid te vergelijken"
   ]
  },
  {
   "cell_type": "markdown",
   "metadata": {},
   "source": [
    "## Andere handige numpy functionaliteit\n",
    "Hieronder nog een paar voorbeelden van andere handige numpy-functionaliteit die je later misschien nodig gaat hebben:\n",
    "\n",
    "- `np.reshape`: verandert de shape van een array\n",
    "- `np.concatenate`: voegt arrays samen\n",
    "- `np.sort`: sorteert een array\n",
    "- `np.unique`: geeft unieke waarden in een array"
   ]
  }
 ],
 "metadata": {
  "kernelspec": {
   "display_name": "ai-s3",
   "language": "python",
   "name": "python3"
  },
  "language_info": {
   "codemirror_mode": {
    "name": "ipython",
    "version": 3
   },
   "file_extension": ".py",
   "mimetype": "text/x-python",
   "name": "python",
   "nbconvert_exporter": "python",
   "pygments_lexer": "ipython3",
   "version": "3.13.5"
  }
 },
 "nbformat": 4,
 "nbformat_minor": 2
}
