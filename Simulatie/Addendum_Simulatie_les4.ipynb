{
 "cells": [
  {
   "cell_type": "markdown",
   "id": "424279b8",
   "metadata": {},
   "source": [
    "## Addendum Simulatie_les4\n",
    "In dit notebook wordt dieper in gegaan op de *problemen* die kunnen onstaan bij het aggregeren van DataFrames.\n",
    "\n",
    "### Missing values\n",
    "Ten eerste gaan we kijken naar een situatie waarbij er, zonder dat het direct te zien is, *missing values* ontstaan."
   ]
  },
  {
   "cell_type": "code",
   "execution_count": null,
   "id": "20e825c0",
   "metadata": {},
   "outputs": [],
   "source": [
    "import pandas as pd"
   ]
  },
  {
   "cell_type": "code",
   "execution_count": null,
   "id": "0c2939e3",
   "metadata": {},
   "outputs": [],
   "source": [
    "# Voorbeelddataset waarin de verkoopgegevens van een pizzeria verzameld zijn.\n",
    "# Er zijn 3 dagen waarover in totaal 8 klanten pizza's besteld hebben. Sommige klanten hebben meerdere pizza's besteld. \n",
    "# De laatste kolom is het belangrijkste: hierin is aangegeven welke soort pizza besteld is.\n",
    "df = pd.read_csv('../databronnen/pizza.csv', sep=';')\n",
    "df"
   ]
  },
  {
   "cell_type": "markdown",
   "id": "cb7eef32",
   "metadata": {},
   "source": [
    "Het doel is om de verkoopcijfers van de verschillende soorten pizza's te analyseren in verband met het aankopen van ingrediënten. Hiervoor willen we voor elk soort pizza berekenen hoeveel er gemiddeld per dag verkocht worden. \n",
    "\n",
    "**Vraag:** *hoeveel pizza Margherita's, Diavola's en Tonno's worden er gemiddeld per dag verkocht?*"
   ]
  },
  {
   "cell_type": "code",
   "execution_count": null,
   "id": "7568f536",
   "metadata": {},
   "outputs": [],
   "source": [
    "# Met behulp van onderstaande groupby tellen we voor elke dag hoeveel pizza's er van elk soort verkocht zijn.\n",
    "df_agg = df.groupby(['Pizza', 'Dag']).agg({'Klant': 'count'})\n",
    "df_agg"
   ]
  },
  {
   "cell_type": "code",
   "execution_count": null,
   "id": "97da965b",
   "metadata": {},
   "outputs": [],
   "source": [
    "# Bovenstaand DataFrame is wat lastiger verder te gebruiken vanwege de kolomnamen, met .reset_index() sla je het DataFrame plat en kun je het makkelijker gebruiken\n",
    "df_agg = df.groupby(['Pizza', 'Dag']).agg({'Klant': 'count'}).reset_index()\n",
    "df_agg"
   ]
  },
  {
   "cell_type": "code",
   "execution_count": null,
   "id": "de317733",
   "metadata": {},
   "outputs": [],
   "source": [
    "# Je kunt bijvoorbeeld het gemiddelde aantal pizza's per dag berekenen\n",
    "df_agg.groupby('Pizza').agg({'Klant': 'mean'})"
   ]
  },
  {
   "cell_type": "markdown",
   "id": "15bf6fd8",
   "metadata": {},
   "source": [
    "**Vraag:** *wat gaat hier mis? Het gemiddeld aantal Tonno's klopt niet.*\n",
    "\n",
    "Bovenstaande berekening klopt niet want df_agg mist een rij voor ```Tonno``` op dag 2: toen waren er 0 aankopen. Hierdoor is het gemiddelde niet 1 maar 1.5 geworden.\n",
    "\n",
    "Het probleem dat we moeten oplossen is dat bij de ```.agg({'Klant': 'count'})``` resultaten met waarde 0 **niet** meegenomen worden maar **wel** belangrijk zijn.\n",
    "\n",
    "Er zijn verschillende methodes om dit probleem op te lossen. "
   ]
  },
  {
   "cell_type": "code",
   "execution_count": null,
   "id": "b0001dea",
   "metadata": {},
   "outputs": [],
   "source": [
    "# De unstack functie gebruiken is een optie wanneer je weinig verschillende soorten pizza's hebt\n",
    "df_agg = df.groupby(['Dag', 'Pizza']).agg({'Pizza': 'count'}).unstack()\n",
    "df_agg"
   ]
  },
  {
   "cell_type": "code",
   "execution_count": null,
   "id": "9f2dcf72",
   "metadata": {},
   "outputs": [],
   "source": [
    "# unstack heeft een optie om lege waardes te vullen\n",
    "df_agg = df.groupby(['Dag', 'Pizza']).agg({'Pizza': 'count'}).unstack(fill_value=0)\n",
    "df_agg"
   ]
  },
  {
   "cell_type": "markdown",
   "id": "477fb338",
   "metadata": {},
   "source": [
    "Maar bovenstaand DataFrame is niet zo handig wanneer je het daarna wilt gebruiken voor visualisaties, zeker niet wanneer er veel verschillende kolommen zijn. Werken met een *compleet* DataFrame is handiger."
   ]
  },
  {
   "cell_type": "code",
   "execution_count": null,
   "id": "307182c5",
   "metadata": {},
   "outputs": [],
   "source": [
    "# In onderstaand codeblok wordt het DataFrame op een manier opgevuld dat het resultaat een handiger DataFrame is \n",
    "import itertools\n",
    "\n",
    "# Alle unieke waardes voor soorten pizza's en dagen bepalen\n",
    "pizzas = df['Pizza'].unique()\n",
    "dagen = df['Dag'].unique()\n",
    "\n",
    "# Alle combinaties van deze soorten pizza's en dagen bepalen zodat er een compleet DataFrame gemaakt kan worden\n",
    "all_combos = pd.DataFrame(list(itertools.product(pizzas, dagen)), columns=['Pizza', 'Dag'])\n",
    "all_combos\n"
   ]
  },
  {
   "cell_type": "code",
   "execution_count": null,
   "id": "4bf10d38",
   "metadata": {},
   "outputs": [],
   "source": [
    "# De groupby die voor incomplete data zorgt\n",
    "df_agg = df.groupby(['Pizza', 'Dag']).agg({'Klant': 'count'}).reset_index()\n",
    "\n",
    "# all_combos is leeg maar bevat alle combinaties\n",
    "# df_agg is gevuld maar bevat niet alle combinaties\n",
    "# Door ze te combineren met een left join, komen alle waardes uit df_agg in all_combos\n",
    "# Het is belangrijk dat de missende waardes uit df_agg opgevuld worden met 0\n",
    "df_agg_full = all_combos.merge(df_agg, on=['Pizza', 'Dag'], how='left').fillna({'Klant': 0})\n",
    "\n",
    "df_agg_full"
   ]
  },
  {
   "cell_type": "code",
   "execution_count": null,
   "id": "97196cde",
   "metadata": {},
   "outputs": [],
   "source": [
    "# De berekening klopt nu wel\n",
    "df_agg_full.groupby('Pizza').agg({'Klant': 'mean'})"
   ]
  },
  {
   "cell_type": "markdown",
   "id": "e7d49c81",
   "metadata": {},
   "source": [
    "#### Plat slaan\n",
    "Daarnaast ontstaan er soms complexe DataFrames wanneer er meerdere aggregaties plaats vinden."
   ]
  },
  {
   "cell_type": "code",
   "execution_count": null,
   "id": "242ec148",
   "metadata": {},
   "outputs": [],
   "source": [
    "# Stel dat we weer naar df_agg_full kijken\n",
    "df_agg_full\n"
   ]
  },
  {
   "cell_type": "code",
   "execution_count": null,
   "id": "e2534569",
   "metadata": {},
   "outputs": [],
   "source": [
    "# Maar deze keer berekenen we zowel de som van het aantal pizza's over alle dagen als het gemiddelde per dag\n",
    "# Het is dus een aggregatie op een geaggregeerd DataFrame, vandaar de lange naam...\n",
    "df_agg_full_agg = df_agg_full.groupby('Pizza').agg({'Klant': ['sum', 'mean']})\n",
    "df_agg_full_agg"
   ]
  },
  {
   "cell_type": "code",
   "execution_count": null,
   "id": "c2bb3be8",
   "metadata": {},
   "outputs": [],
   "source": [
    "# De kolommen aanroepen is lastig, kijk maar wat de namen zijn\n",
    "df_agg_full_agg.columns"
   ]
  },
  {
   "cell_type": "code",
   "execution_count": null,
   "id": "80b7f50f",
   "metadata": {},
   "outputs": [],
   "source": [
    "# Het kan wel en het kan voordelen hebben wanneer je gaat loopen over de originele kolomnamen en de aggregaties\n",
    "df_agg_full_agg[('Klant', 'sum')]"
   ]
  },
  {
   "cell_type": "code",
   "execution_count": null,
   "id": "50eda349",
   "metadata": {},
   "outputs": [],
   "source": [
    "# Maar je kunt de kolomnamen ook plat slaan\n",
    "# Onderstaande code neemt een '_' als basis en join de beide waardes uit het tuple van elke kolomnaam en stript eventuele spaties\n",
    "df_agg_full_agg.columns = ['_'.join(col).strip() for col in df_agg_full_agg.columns.values]\n",
    "df_agg_full_agg\n"
   ]
  },
  {
   "cell_type": "code",
   "execution_count": null,
   "id": "73545367",
   "metadata": {},
   "outputs": [],
   "source": [
    "# Het nieuwe DataFrame heeft kolomnamen die je makkelijker kunt aanroepen.\n",
    "df_agg_full_agg['Klant_sum']\n"
   ]
  }
 ],
 "metadata": {
  "kernelspec": {
   "display_name": "s3venv",
   "language": "python",
   "name": "python3"
  },
  "language_info": {
   "codemirror_mode": {
    "name": "ipython",
    "version": 3
   },
   "file_extension": ".py",
   "mimetype": "text/x-python",
   "name": "python",
   "nbconvert_exporter": "python",
   "pygments_lexer": "ipython3",
   "version": "3.13.5"
  }
 },
 "nbformat": 4,
 "nbformat_minor": 5
}
