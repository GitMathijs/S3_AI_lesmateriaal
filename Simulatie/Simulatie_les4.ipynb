{
 "cells": [
  {
   "cell_type": "markdown",
   "id": "4a73e58e",
   "metadata": {},
   "source": [
    "# Simulatie - les 4"
   ]
  },
  {
   "cell_type": "markdown",
   "id": "808c927d",
   "metadata": {},
   "source": [
    "Notebook bij les 4 van de leerlijn simulatie van S3 - AI. \n",
    "\n",
    "© Auteur: Joost Vanstreels"
   ]
  },
  {
   "cell_type": "markdown",
   "id": "209f65a5",
   "metadata": {},
   "source": [
    "**Voorbereiding voor les 4:**\n",
    "- Geen voorbereiding nodig, behalve dat je alle opdrachten uit les 3 afgerond moet hebben."
   ]
  },
  {
   "cell_type": "code",
   "execution_count": 157,
   "id": "64984668",
   "metadata": {},
   "outputs": [],
   "source": [
    "# Importeer de benodigde libraries\n",
    "import numpy as np\n",
    "import pandas as pd\n",
    "import seaborn as sns\n",
    "import matplotlib.pyplot as plt\n",
    "import plotly.graph_objects as go\n",
    "import ipywidgets as widgets"
   ]
  },
  {
   "cell_type": "markdown",
   "id": "fd6cfbf1",
   "metadata": {},
   "source": [
    "## Experimenten uitvoeren met synthetische data\n",
    "Tijdens college 1 en 2 hebben we gebruik gemaakt van de simulatieomgeving om experimenten uit te voeren. Op basis van de historische data werden simulaties gedraaid van verschillende scenario's van de ICU waarbij met het aantal bedden gespeeld is. Tijdens college 3 hebben we geleerd hoe synthetische data gegenereerd kan worden en in dit college gaan we die synthetische data gebruiken in de simulatieomgeving om complexere experimenten uit te voeren. "
   ]
  },
  {
   "cell_type": "markdown",
   "id": "85909065",
   "metadata": {},
   "source": [
    "## Meerdere runs per scenario\n",
    "Tijdens college 2 hebben we gesproken over verschillende *niveau's* van data:\n",
    "\n",
    "1. Laagste niveau: dit is de simulatiedata van één run, van alle entiteiten zijn tijdstippen van alle events vastgelegd.  \n",
    "2. Statistieken van entiteiten: dit zijn de statistieken van alle individuele patiënten en individuele bedden van één run.\n",
    "3. Statistieken van een scenario: dit zijn de statistieken van de ICU van één run, hier wordt gekeken naar alle patiënten en alle bedden als geheel.\n",
    "\n",
    "De statistieken van een scenario zeggen iets over hoe de ICU in dat scenario gefunctioneerd heeft. Deze statisteken worden gebruikt om verschillende scenario's van de ICU (qua hoeveelheid bedden) te vergelijken.\n",
    "\n",
    "### Extra niveau\n",
    "Wanneer er gewerkt wordt met historische data, wordt er voor elke scenario van de ICU precies één run gedraaid. Het heeft geen zin om meerdere runs te draaien, want elke run is precies hetzelfde omdat de input hetzelfde is.\n",
    "\n",
    "Wanneer er met synthetische data gewerkt wordt, zullen er meerdere runs uitgevoerd worden. Je kunt bijvoorbeeld 100 verschillende datasets genereren die allemaal dezelfde verdeling volgen maar allemaal uniek zijn. Sommige datasets zullen uitzonderingssituaties bevatten die in de praktijk voor kunnen komen en dus interessant zijn om mee te nemen in de analyse.\n",
    "\n",
    "We hebben een extra stap nodig om te kunnen bepalen hoe een ICU in dat scenario gefunctioneerd heeft want er zijn nu meerdere runs beschikbaar voor elk scenario. In de vierde moeten we alle data van alle runs van een scenario groeperen, dat heeft ook impact op de naam van stap 3:\n",
    "\n",
    "3. Statistieken van een ~~scenario~~ **run**: dit zijn de statistieken van de ICU van één run, hier wordt gekeken naar alle patiënten en alle bedden als geheel.\n",
    "4. Statistieken van een **scenario**: dit zijn de statistieken van de ICU waarbij de statistieken van alle runs van een scenario als geheel bekeken worden. "
   ]
  },
  {
   "cell_type": "markdown",
   "id": "4548f90a",
   "metadata": {},
   "source": [
    "### Voorbeeld supermarkt\n",
    "In onderstaande code wordt op een gesimplificeerde manier synthetische data gegenereerd voor een aantal scenario's van de supermarkt: 3 zelfscankassa's en 7 normale kassa's, 6 plus 3 en 10 plus 1. \n",
    "\n",
    "De wachttijden worden bepaald op basis van de hoeveelheid kassa's van elk type, dus niet met een échte simulatie. Maar het gaat om het idee dat er straks meerdere scenario's zijn met 100 runs per scenario."
   ]
  },
  {
   "cell_type": "code",
   "execution_count": 158,
   "id": "294e1578",
   "metadata": {},
   "outputs": [],
   "source": [
    "### Data genereren supermarkt\n",
    "\n",
    "# Parameters experiment\n",
    "scenario = [1, 2, 3] # aantal scenario's\n",
    "runs = 100 # aantal runs per scenario\n",
    "zelfscan = [3, 6, 10] # aantal zelfscankassa's voor respectievelijk scenario 1, 2 en 3\n",
    "normaal = [7, 3, 1] # aantal normale kassa's voor respectievelijk scenario 1, 2 en 3\n",
    "\n",
    "# Lege lists om data op te slaan\n",
    "scenario_list = []\n",
    "run_list = []\n",
    "zelfscan_list = []\n",
    "normaal_list = []\n",
    "wachttijd_zs = []\n",
    "wachttijd_nor = []\n",
    "\n",
    "# Synthetische data genereren\n",
    "for sc in scenario:\n",
    "    for run in range(1, runs + 1):\n",
    "\n",
    "        # parameters vastleggen\n",
    "        scenario_list.append(sc)\n",
    "        run_list.append(run)\n",
    "        zelfscan_list.append(zelfscan[scenario.index(sc)])\n",
    "        normaal_list.append(normaal[scenario.index(sc)])\n",
    "\n",
    "        # Wachttijd bij de zelfscankassa genereren:\n",
    "        # normaal verdeling met gemiddelde 12 - aantal kassa's: hoe meer kassa's, hoe lager de wachttijd\n",
    "        # en standaarddeviatie (12 - aantal kassa's) / 2: hoe meer kassa's, hoe lager de spreiding\n",
    "        wachttijd_zs.append(np.random.normal(12-zelfscan[scenario.index(sc)], (12-zelfscan[scenario.index(sc)])/2))\n",
    "        # Wachttijd bij de normale kassa genereren: \n",
    "        # normaal verdeling met gemiddelde 16 - aantal kassa's: wachttijd bij normale kassa's is hoger\n",
    "        # en standaarddeviatie (16 - aantal kassa's) / 1.5: spreiding is nóg hoger, vandaar de 1.5\n",
    "        wachttijd_nor.append(np.random.normal(16-normaal[scenario.index(sc)], (16-normaal[scenario.index(sc)])/1.5))\n",
    "\n",
    "# Data opschonen: negatieve waardes vervangen met 0\n",
    "wachttijd_zs = [x if x >= 0 else 0 for x in wachttijd_zs]\n",
    "wachttijd_nor = [x if x >= 0 else 0 for x in wachttijd_nor]\n",
    "\n",
    "# Dataframe genereren\n",
    "df = pd.DataFrame({\n",
    "    'scenario': scenario_list,\n",
    "    'run': run_list,\n",
    "    'zelfscan': zelfscan_list,\n",
    "    'normaal': normaal_list,\n",
    "    'wachttijd zelfscan': wachttijd_zs,\n",
    "    'wachttijd normaal': wachttijd_nor\n",
    "})\n",
    "\n",
    "df = df.round(1)"
   ]
  },
  {
   "cell_type": "markdown",
   "id": "32db1b8a",
   "metadata": {},
   "source": [
    "Het dataframe bevat de data van niveau 3: *Statistieken van een run: dit zijn de statistieken van de supermarkt van één run, hier wordt gekeken naar alle klanten van beide kassa's als geheel.* De kolommen ```wachttijd zelfscan``` en ```wachttijd normaal``` zijn dus de gemiddelde wachttijden van alle klanten van die run.  "
   ]
  },
  {
   "cell_type": "code",
   "execution_count": 159,
   "id": "992df301",
   "metadata": {},
   "outputs": [
    {
     "data": {
      "text/html": [
       "<div>\n",
       "<style scoped>\n",
       "    .dataframe tbody tr th:only-of-type {\n",
       "        vertical-align: middle;\n",
       "    }\n",
       "\n",
       "    .dataframe tbody tr th {\n",
       "        vertical-align: top;\n",
       "    }\n",
       "\n",
       "    .dataframe thead th {\n",
       "        text-align: right;\n",
       "    }\n",
       "</style>\n",
       "<table border=\"1\" class=\"dataframe\">\n",
       "  <thead>\n",
       "    <tr style=\"text-align: right;\">\n",
       "      <th></th>\n",
       "      <th>scenario</th>\n",
       "      <th>run</th>\n",
       "      <th>zelfscan</th>\n",
       "      <th>normaal</th>\n",
       "      <th>wachttijd zelfscan</th>\n",
       "      <th>wachttijd normaal</th>\n",
       "    </tr>\n",
       "  </thead>\n",
       "  <tbody>\n",
       "    <tr>\n",
       "      <th>0</th>\n",
       "      <td>1</td>\n",
       "      <td>1</td>\n",
       "      <td>3</td>\n",
       "      <td>7</td>\n",
       "      <td>13.8</td>\n",
       "      <td>5.0</td>\n",
       "    </tr>\n",
       "    <tr>\n",
       "      <th>1</th>\n",
       "      <td>1</td>\n",
       "      <td>2</td>\n",
       "      <td>3</td>\n",
       "      <td>7</td>\n",
       "      <td>8.3</td>\n",
       "      <td>3.6</td>\n",
       "    </tr>\n",
       "    <tr>\n",
       "      <th>2</th>\n",
       "      <td>1</td>\n",
       "      <td>3</td>\n",
       "      <td>3</td>\n",
       "      <td>7</td>\n",
       "      <td>6.5</td>\n",
       "      <td>12.9</td>\n",
       "    </tr>\n",
       "    <tr>\n",
       "      <th>3</th>\n",
       "      <td>1</td>\n",
       "      <td>4</td>\n",
       "      <td>3</td>\n",
       "      <td>7</td>\n",
       "      <td>11.3</td>\n",
       "      <td>9.4</td>\n",
       "    </tr>\n",
       "    <tr>\n",
       "      <th>4</th>\n",
       "      <td>1</td>\n",
       "      <td>5</td>\n",
       "      <td>3</td>\n",
       "      <td>7</td>\n",
       "      <td>5.0</td>\n",
       "      <td>9.1</td>\n",
       "    </tr>\n",
       "    <tr>\n",
       "      <th>...</th>\n",
       "      <td>...</td>\n",
       "      <td>...</td>\n",
       "      <td>...</td>\n",
       "      <td>...</td>\n",
       "      <td>...</td>\n",
       "      <td>...</td>\n",
       "    </tr>\n",
       "    <tr>\n",
       "      <th>295</th>\n",
       "      <td>3</td>\n",
       "      <td>96</td>\n",
       "      <td>10</td>\n",
       "      <td>1</td>\n",
       "      <td>1.6</td>\n",
       "      <td>17.2</td>\n",
       "    </tr>\n",
       "    <tr>\n",
       "      <th>296</th>\n",
       "      <td>3</td>\n",
       "      <td>97</td>\n",
       "      <td>10</td>\n",
       "      <td>1</td>\n",
       "      <td>0.8</td>\n",
       "      <td>10.6</td>\n",
       "    </tr>\n",
       "    <tr>\n",
       "      <th>297</th>\n",
       "      <td>3</td>\n",
       "      <td>98</td>\n",
       "      <td>10</td>\n",
       "      <td>1</td>\n",
       "      <td>1.0</td>\n",
       "      <td>21.4</td>\n",
       "    </tr>\n",
       "    <tr>\n",
       "      <th>298</th>\n",
       "      <td>3</td>\n",
       "      <td>99</td>\n",
       "      <td>10</td>\n",
       "      <td>1</td>\n",
       "      <td>3.6</td>\n",
       "      <td>11.7</td>\n",
       "    </tr>\n",
       "    <tr>\n",
       "      <th>299</th>\n",
       "      <td>3</td>\n",
       "      <td>100</td>\n",
       "      <td>10</td>\n",
       "      <td>1</td>\n",
       "      <td>3.2</td>\n",
       "      <td>16.5</td>\n",
       "    </tr>\n",
       "  </tbody>\n",
       "</table>\n",
       "<p>300 rows × 6 columns</p>\n",
       "</div>"
      ],
      "text/plain": [
       "     scenario  run  zelfscan  normaal  wachttijd zelfscan  wachttijd normaal\n",
       "0           1    1         3        7                13.8                5.0\n",
       "1           1    2         3        7                 8.3                3.6\n",
       "2           1    3         3        7                 6.5               12.9\n",
       "3           1    4         3        7                11.3                9.4\n",
       "4           1    5         3        7                 5.0                9.1\n",
       "..        ...  ...       ...      ...                 ...                ...\n",
       "295         3   96        10        1                 1.6               17.2\n",
       "296         3   97        10        1                 0.8               10.6\n",
       "297         3   98        10        1                 1.0               21.4\n",
       "298         3   99        10        1                 3.6               11.7\n",
       "299         3  100        10        1                 3.2               16.5\n",
       "\n",
       "[300 rows x 6 columns]"
      ]
     },
     "execution_count": 159,
     "metadata": {},
     "output_type": "execute_result"
    }
   ],
   "source": [
    "# Het resultaat is een dataframe met 300 rijen: er zijn drie scenario's met elk 100 runs.\n",
    "df"
   ]
  },
  {
   "cell_type": "markdown",
   "id": "8b6c0664",
   "metadata": {},
   "source": [
    "## Data manipuleren V2\n",
    "Het doel is nog steeds om scenario's onderling te vergelijken maar dat kan nu nog niet met de data op niveau 3 omdat er voor elk scenario data beschikbaar is van meerdere runs. We moeten eerst de data naar niveau 4 brengen om scenario's te kunnen vergelijken. Om naar niveau 4 te gaan, moeten we de data van alle runs van een scenario groeperen en nadenken over statistieken die we willen berekenen van dat scenario voor de analyse. \n",
    "\n",
    "Het feit dat er meerdere runs per scenario zijn, levert aanvullende informatie op die er eerder (bij de historische data) niet was. Elke run is uniek en in elke run kunnen er uitzonderingssituaties voorkomen. Bijvoorbeeld extreem veel patiënten die op de ICU binnen komen of een reeks van lange wachttijden bij de kassa die voor een opstopping zorgen. \n",
    "\n",
    "#### Voorbeeld supermarkt: scenario's onderling vergelijken\n",
    "\n",
    "Stel dat je naar de gemiddelde wachttijd bij de zelfscankassa's gaat kijken, dan moet deze korter zijn dan bij de normale kassa's want anders gaat niemand ze gebruiken. Voor de drie scenario's ga je de gemiddelde wachttijden onderling vergelijken en de resultaten analyseren. Hiervoor moet je weer aggregeren.\n",
    "\n",
    "### Data aggregeren\n",
    "\n",
    "In onderstaande code wordt de ```groupby```-functie van pandas weer gebruikt om de data te aggregeren per scenario. Hiermee komen we op niveau 4: *Statistieken van een scenario: dit zijn de statistieken van de supermarkt waarbij de statistieken van alle runs van een scenario als geheel bekeken worden.*\n",
    "\n",
    "**De gemiddelde gemiddelde wachttijd:**\n",
    "De ```agg```-functie levert statistieken op over alle runs. De mean van de wachttijden betekent het volgende (*let op*): de **gemiddelde gemiddelde** wachttijd van alle klanten. Dat betekent het volgende: het originele dataframe bevatte voor elk run de gemiddelde wachttijd van alle klanten bij beide kassa's. Dit dataframe bevat de gemiddelde wachttijd van alle gemiddelde wachttijden van alle runs. Dat is een interessante statistiek om de scenario's onderling te vergelijken.\n",
    "\n",
    "**Maximale wachttijd:**\n",
    "De maximale gemiddelde wachttijd is ook interessant: zo zijn er runs geweest met een gemiddelde wachttijd die fors hoger was. De maximale wachttijd is mogelijk een uitschieter, maar het kan dus wel voorkomen dat er scenario's zijn waarin **soms** de wachttijd bij de zelfscankassa's toch hoger is dan bij de normale kassa's. Hoe vaak **soms** is, is natuurlijk een interessant vraagstuk waar een data scientist antwoord op moet kunnen geven."
   ]
  },
  {
   "cell_type": "code",
   "execution_count": 160,
   "id": "1c6aba99",
   "metadata": {},
   "outputs": [
    {
     "data": {
      "text/html": [
       "<div>\n",
       "<style scoped>\n",
       "    .dataframe tbody tr th:only-of-type {\n",
       "        vertical-align: middle;\n",
       "    }\n",
       "\n",
       "    .dataframe tbody tr th {\n",
       "        vertical-align: top;\n",
       "    }\n",
       "\n",
       "    .dataframe thead tr th {\n",
       "        text-align: left;\n",
       "    }\n",
       "\n",
       "    .dataframe thead tr:last-of-type th {\n",
       "        text-align: right;\n",
       "    }\n",
       "</style>\n",
       "<table border=\"1\" class=\"dataframe\">\n",
       "  <thead>\n",
       "    <tr>\n",
       "      <th></th>\n",
       "      <th colspan=\"2\" halign=\"left\">wachttijd zelfscan</th>\n",
       "      <th colspan=\"2\" halign=\"left\">wachttijd normaal</th>\n",
       "    </tr>\n",
       "    <tr>\n",
       "      <th></th>\n",
       "      <th>mean</th>\n",
       "      <th>max</th>\n",
       "      <th>mean</th>\n",
       "      <th>max</th>\n",
       "    </tr>\n",
       "    <tr>\n",
       "      <th>scenario</th>\n",
       "      <th></th>\n",
       "      <th></th>\n",
       "      <th></th>\n",
       "      <th></th>\n",
       "    </tr>\n",
       "  </thead>\n",
       "  <tbody>\n",
       "    <tr>\n",
       "      <th>1</th>\n",
       "      <td>9.7</td>\n",
       "      <td>21.5</td>\n",
       "      <td>9.3</td>\n",
       "      <td>22.1</td>\n",
       "    </tr>\n",
       "    <tr>\n",
       "      <th>2</th>\n",
       "      <td>6.4</td>\n",
       "      <td>13.7</td>\n",
       "      <td>12.7</td>\n",
       "      <td>42.1</td>\n",
       "    </tr>\n",
       "    <tr>\n",
       "      <th>3</th>\n",
       "      <td>2.0</td>\n",
       "      <td>4.4</td>\n",
       "      <td>15.6</td>\n",
       "      <td>39.6</td>\n",
       "    </tr>\n",
       "  </tbody>\n",
       "</table>\n",
       "</div>"
      ],
      "text/plain": [
       "         wachttijd zelfscan       wachttijd normaal      \n",
       "                       mean   max              mean   max\n",
       "scenario                                                 \n",
       "1                       9.7  21.5               9.3  22.1\n",
       "2                       6.4  13.7              12.7  42.1\n",
       "3                       2.0   4.4              15.6  39.6"
      ]
     },
     "execution_count": 160,
     "metadata": {},
     "output_type": "execute_result"
    }
   ],
   "source": [
    "# Voorbeeldcode om data op niveau 4 te genereren\n",
    "# Hieronder wordt de gemiddelde wachttijd berekend voor alle runs, ook het maximum\n",
    "df_level4 = df.groupby('scenario').agg({\n",
    "    'wachttijd zelfscan': ['mean', 'max'],\n",
    "    'wachttijd normaal': ['mean', 'max']}).round(1)\n",
    "\n",
    "df_level4"
   ]
  },
  {
   "cell_type": "markdown",
   "id": "cb45df32",
   "metadata": {},
   "source": [
    "#### Uitdagingen bij aggregeren\n",
    "Bij het aggregeren van data, kunnen problemen ontstaan. In het notebook ```Addendum_Simulatie_les4.ipynb``` worden twee problemen beschreven."
   ]
  },
  {
   "cell_type": "markdown",
   "id": "57d13197",
   "metadata": {},
   "source": [
    "## Data analytics V2\n",
    "\n",
    "De extra laag aan data heeft vooral als waarde dat je bepaalde doemscenario's in kaart kun brengen. De gemiddelde wachttijd (van een scenario) van de gemiddelde wachttijd (van elke run) is natuurlijk interessant, maar uitschieters van een bepaalde run en de kans daarop zijn ook interessant.\n",
    "\n",
    "#### Voorbeeld supermarkt: alle runs van een scenario analyseren\n",
    "Omdat elke run uniek is, is het ook interessant om voor één scenario alle runs te analyseren en om te kijken of er bijvoorbeeld uitschieters zijn qua wachttijd. De Jumbo had vroeger een actie dat wanneer er 4 wachtenden bij een kassa waren, jij als 5e wachtende jouw boodschappen gratis mee kon nemen. Dat soort uitschieters (4 wachtenden in een rij) wil je voorkomen. Je zou dus kunnen analyseren hoe vaak dat soort uitzonderingssituaties voor komen in een scenario door naar alle runs te kijken. Hiervoor gebruik je de data van niveau 3.\n",
    "\n",
    "De eerste stap is natuurlijk het plotten van de distributie om inzicht te krijgen in een de wachttijden."
   ]
  },
  {
   "cell_type": "code",
   "execution_count": 161,
   "id": "655ffff4",
   "metadata": {},
   "outputs": [
    {
     "data": {
      "image/png": "[encoded data removed]",
      "text/plain": [
       "<Figure size 640x480 with 1 Axes>"
      ]
     },
     "metadata": {},
     "output_type": "display_data"
    }
   ],
   "source": [
    "# Histogram maken van de wachttijd \n",
    "sns.histplot(df['wachttijd zelfscan'][df['scenario']==1], kde=False, color='blue', label='wachttijd zelfscan', alpha=0.6)\n",
    "plt.xlabel(\"Scenario\")\n",
    "plt.ylabel(\"Wachttijd Zelfscan\")\n",
    "plt.title(\"Histogram voor wachttijd zelfscan scenario 1\")\n",
    "plt.show()"
   ]
  },
  {
   "cell_type": "markdown",
   "id": "4f2318fb",
   "metadata": {},
   "source": [
    "Je kunt bijvoorbeeld de kans bepalen dat de wachttijd van een klant of de gemiddelde wachttijd hoger is dan een bepaalde waarde. Je kunt het ook omdraaien en de grens berekenen waarbinnen 95% van de gevallen vallen."
   ]
  },
  {
   "cell_type": "code",
   "execution_count": 162,
   "id": "8c5ade25",
   "metadata": {},
   "outputs": [
    {
     "data": {
      "text/plain": [
       "scenario\n",
       "1    15.82\n",
       "2    10.82\n",
       "3     3.70\n",
       "Name: wachttijd zelfscan, dtype: float64"
      ]
     },
     "execution_count": 162,
     "metadata": {},
     "output_type": "execute_result"
    }
   ],
   "source": [
    "# Met behulp van de quantile functie kun je het 95% percentiel bepalen\n",
    "# Dat betekent dat in 95% van de gevallen de gemiddelde wachttijd lager is dan deze waarde\n",
    "df.groupby('scenario')['wachttijd zelfscan'].quantile(0.95)"
   ]
  },
  {
   "cell_type": "markdown",
   "id": "1faa1edc",
   "metadata": {},
   "source": [
    "Het plotten van een histogram en daarin een rechte lijn op de plek van het 95% percentiel zorgt voor een mooie visualisatie. \n",
    "\n",
    "Je zou ook een boxplot kunnen maken van een run om de gemiddelde wachttijd te plotten en de IQR methode kunnen gebruiken om te analyseren of er uitschieters zijn:"
   ]
  },
  {
   "cell_type": "code",
   "execution_count": 163,
   "id": "c0d9947c",
   "metadata": {},
   "outputs": [
    {
     "data": {
      "image/png": "[encoded data removed]",
      "text/plain": [
       "<Figure size 640x480 with 1 Axes>"
      ]
     },
     "metadata": {},
     "output_type": "display_data"
    }
   ],
   "source": [
    "# Boxplot maken van de wachttijd waarbij de data gegroepeerd is per scenario\n",
    "sns.boxplot(x=\"scenario\", y=\"wachttijd zelfscan\", data=df)\n",
    "plt.xlabel(\"Scenario\")\n",
    "plt.ylabel(\"Wachttijd Zelfscan\")\n",
    "plt.title(\"Boxplot per scenario voor wachttijd zelfscan\")\n",
    "plt.show()"
   ]
  },
  {
   "cell_type": "markdown",
   "id": "26302243",
   "metadata": {},
   "source": [
    "Het is daarnaast ook heel interessant om data van niveau 2 mee te nemen: de uitschieters qua wachttijden van individuele klanten of patiënten. Je kunt hier bijvoorbeeld het 95% percentiel bepalen van de wachttijd van alle klanten van alle runs van een scenario. Daarmee kun je ook weer bepalen hoe groot het risico is op uitschieters."
   ]
  },
  {
   "cell_type": "markdown",
   "id": "8309c25c",
   "metadata": {},
   "source": [
    "### Opdrachten supermarkt\n",
    "**Opdracht 1.1.** Scenario's onderling vergelijken op gemiddelde én maximale wachttijd\n",
    "\n",
    "Het doel van de eerste opdracht is om voor elk scenario de wachttijden van beide type kassa's onderling te vergelijken. \n",
    "\n",
    "Maak hiervoor een visualisatie om de scenario's onderling te kunnen vergelijken op de gemiddelde wachttijd én maximale wachttijd. Toon de gemiddelde wachttijd van alle runs en de maximale wachttijd van alle runs. Kies een passende visualisatie om de gemiddelde wachttijden van beide kassa's van alle scenario's te vergelijken en analyseer de resultaten."
   ]
  },
  {
   "cell_type": "code",
   "execution_count": 164,
   "id": "f581b884",
   "metadata": {
    "tags": [
     "docent"
    ]
   },
   "outputs": [
    {
     "data": {
      "text/html": [
       "<div>\n",
       "<style scoped>\n",
       "    .dataframe tbody tr th:only-of-type {\n",
       "        vertical-align: middle;\n",
       "    }\n",
       "\n",
       "    .dataframe tbody tr th {\n",
       "        vertical-align: top;\n",
       "    }\n",
       "\n",
       "    .dataframe thead tr th {\n",
       "        text-align: left;\n",
       "    }\n",
       "\n",
       "    .dataframe thead tr:last-of-type th {\n",
       "        text-align: right;\n",
       "    }\n",
       "</style>\n",
       "<table border=\"1\" class=\"dataframe\">\n",
       "  <thead>\n",
       "    <tr>\n",
       "      <th></th>\n",
       "      <th colspan=\"2\" halign=\"left\">wachttijd zelfscan</th>\n",
       "      <th colspan=\"2\" halign=\"left\">wachttijd normaal</th>\n",
       "    </tr>\n",
       "    <tr>\n",
       "      <th></th>\n",
       "      <th>max</th>\n",
       "      <th>mean</th>\n",
       "      <th>max</th>\n",
       "      <th>mean</th>\n",
       "    </tr>\n",
       "    <tr>\n",
       "      <th>scenario</th>\n",
       "      <th></th>\n",
       "      <th></th>\n",
       "      <th></th>\n",
       "      <th></th>\n",
       "    </tr>\n",
       "  </thead>\n",
       "  <tbody>\n",
       "    <tr>\n",
       "      <th>1</th>\n",
       "      <td>21.5</td>\n",
       "      <td>9.660</td>\n",
       "      <td>22.1</td>\n",
       "      <td>9.263</td>\n",
       "    </tr>\n",
       "    <tr>\n",
       "      <th>2</th>\n",
       "      <td>13.7</td>\n",
       "      <td>6.418</td>\n",
       "      <td>42.1</td>\n",
       "      <td>12.717</td>\n",
       "    </tr>\n",
       "    <tr>\n",
       "      <th>3</th>\n",
       "      <td>4.4</td>\n",
       "      <td>2.000</td>\n",
       "      <td>39.6</td>\n",
       "      <td>15.649</td>\n",
       "    </tr>\n",
       "  </tbody>\n",
       "</table>\n",
       "</div>"
      ],
      "text/plain": [
       "         wachttijd zelfscan        wachttijd normaal        \n",
       "                        max   mean               max    mean\n",
       "scenario                                                    \n",
       "1                      21.5  9.660              22.1   9.263\n",
       "2                      13.7  6.418              42.1  12.717\n",
       "3                       4.4  2.000              39.6  15.649"
      ]
     },
     "execution_count": 164,
     "metadata": {},
     "output_type": "execute_result"
    }
   ],
   "source": [
    "# Voorbeeldcode om data op niveau 4 te genereren\n",
    "df_level4 = df.groupby(['scenario']).agg({\n",
    "    'wachttijd zelfscan': ['max', 'mean'],\n",
    "    'wachttijd normaal': ['max', 'mean']})\n",
    "\n",
    "df_level4"
   ]
  },
  {
   "cell_type": "code",
   "execution_count": 165,
   "id": "b2107f73",
   "metadata": {
    "tags": [
     "docent"
    ]
   },
   "outputs": [
    {
     "data": {
      "text/html": [
       "<div>\n",
       "<style scoped>\n",
       "    .dataframe tbody tr th:only-of-type {\n",
       "        vertical-align: middle;\n",
       "    }\n",
       "\n",
       "    .dataframe tbody tr th {\n",
       "        vertical-align: top;\n",
       "    }\n",
       "\n",
       "    .dataframe thead th {\n",
       "        text-align: right;\n",
       "    }\n",
       "</style>\n",
       "<table border=\"1\" class=\"dataframe\">\n",
       "  <thead>\n",
       "    <tr style=\"text-align: right;\">\n",
       "      <th></th>\n",
       "      <th>scenario</th>\n",
       "      <th>wachttijd zelfscan_max</th>\n",
       "      <th>wachttijd zelfscan_mean</th>\n",
       "      <th>wachttijd normaal_max</th>\n",
       "      <th>wachttijd normaal_mean</th>\n",
       "    </tr>\n",
       "  </thead>\n",
       "  <tbody>\n",
       "    <tr>\n",
       "      <th>0</th>\n",
       "      <td>1</td>\n",
       "      <td>21.5</td>\n",
       "      <td>9.660</td>\n",
       "      <td>22.1</td>\n",
       "      <td>9.263</td>\n",
       "    </tr>\n",
       "    <tr>\n",
       "      <th>1</th>\n",
       "      <td>2</td>\n",
       "      <td>13.7</td>\n",
       "      <td>6.418</td>\n",
       "      <td>42.1</td>\n",
       "      <td>12.717</td>\n",
       "    </tr>\n",
       "    <tr>\n",
       "      <th>2</th>\n",
       "      <td>3</td>\n",
       "      <td>4.4</td>\n",
       "      <td>2.000</td>\n",
       "      <td>39.6</td>\n",
       "      <td>15.649</td>\n",
       "    </tr>\n",
       "  </tbody>\n",
       "</table>\n",
       "</div>"
      ],
      "text/plain": [
       "   scenario  wachttijd zelfscan_max  wachttijd zelfscan_mean  \\\n",
       "0         1                    21.5                    9.660   \n",
       "1         2                    13.7                    6.418   \n",
       "2         3                     4.4                    2.000   \n",
       "\n",
       "   wachttijd normaal_max  wachttijd normaal_mean  \n",
       "0                   22.1                   9.263  \n",
       "1                   42.1                  12.717  \n",
       "2                   39.6                  15.649  "
      ]
     },
     "execution_count": 165,
     "metadata": {},
     "output_type": "execute_result"
    }
   ],
   "source": [
    "# Kolomnamen hernoemen\n",
    "df_level4.columns = ['_'.join(col).strip() for col in df_level4.columns.values]\n",
    "df_level4 = df_level4.reset_index()\n",
    "df_level4\n"
   ]
  },
  {
   "cell_type": "code",
   "execution_count": 166,
   "id": "0ef4958d",
   "metadata": {},
   "outputs": [
    {
     "data": {
      "image/png": "[encoded data removed]",
      "text/plain": [
       "<Figure size 1000x600 with 1 Axes>"
      ]
     },
     "metadata": {},
     "output_type": "display_data"
    }
   ],
   "source": [
    "# X-as posities\n",
    "x = np.arange(len(df_level4['scenario']))\n",
    "width = 0.35  # breedte van de bars\n",
    "\n",
    "fig, ax = plt.subplots(figsize=(10, 6))\n",
    "\n",
    "# 1️⃣ Barplot voor gemiddelden\n",
    "bars1 = ax.bar(x - width/2, df_level4['wachttijd zelfscan_mean'], width, label='Zelfscan (gemiddeld)')\n",
    "bars2 = ax.bar(x + width/2, df_level4['wachttijd normaal_mean'], width, label='Normaal (gemiddeld)')\n",
    "\n",
    "# 2️⃣ Lijnen voor maxima (met markers)\n",
    "ax.plot(x - width/2, df_level4['wachttijd zelfscan_max'], color='tab:blue', marker='o', linestyle='--', label='Zelfscan (max)')\n",
    "ax.plot(x + width/2, df_level4['wachttijd normaal_max'], color='tab:orange', marker='o', linestyle='--', label='Normaal (max)')\n",
    "\n",
    "# 3️⃣ Opmaak\n",
    "ax.set_xlabel('Scenario')\n",
    "ax.set_ylabel('Wachttijd (s)')\n",
    "ax.set_title('Gemiddelde en maximale wachttijden per scenario')\n",
    "ax.set_xticks(x)\n",
    "ax.set_xticklabels(df_level4['scenario'])\n",
    "ax.legend()\n",
    "\n",
    "plt.tight_layout()\n",
    "plt.show()"
   ]
  },
  {
   "cell_type": "markdown",
   "id": "cec1e8d9",
   "metadata": {},
   "source": [
    "**Opdracht 1.2.** Uitzonderingssituaties in kaart brengen\n",
    "\n",
    "Het doel van de tweede opdracht is om de runs van elk scenario te analyseren. Wat valt er op qua minimale en maximale wachttijden? Zijn er runs waar iets *bijzonders* of *afwijkends* gebeurt? Is dat onwenselijk? \n",
    "\n",
    "Maak een visualisatie om de runs van elk scenario te analyseren. Kies passende visualisaties om te analyseren of er wenselijke of onwenselijke situaties zijn. "
   ]
  },
  {
   "cell_type": "code",
   "execution_count": 167,
   "id": "eab00c50",
   "metadata": {
    "tags": [
     "docent"
    ]
   },
   "outputs": [
    {
     "data": {
      "image/png": "[encoded data removed]",
      "text/plain": [
       "<Figure size 1000x600 with 1 Axes>"
      ]
     },
     "metadata": {},
     "output_type": "display_data"
    }
   ],
   "source": [
    "# Visualisatie \n",
    "df_long = df.melt(\n",
    "    id_vars='scenario',\n",
    "    value_vars=['wachttijd zelfscan', 'wachttijd normaal'],\n",
    "    var_name='type',\n",
    "    value_name='wachttijd'\n",
    ")\n",
    "\n",
    "# Mooiere labels (optioneel)\n",
    "df_long['type'] = df_long['type'].replace({\n",
    "    'wachttijd zelfscan': 'Zelfscan',\n",
    "    'wachttijd normaal': 'Kassa'\n",
    "})\n",
    "\n",
    "# Plotten\n",
    "plt.figure(figsize=(10, 6))\n",
    "sns.boxplot(data=df_long, x='scenario', y='wachttijd', hue='type', palette='Set2')\n",
    "\n",
    "plt.title('Verdeling van wachttijden per scenario')\n",
    "plt.xlabel('Scenario')\n",
    "plt.ylabel('Wachttijd (s)')\n",
    "plt.legend(title='Type')\n",
    "plt.tight_layout()\n",
    "plt.show()"
   ]
  },
  {
   "cell_type": "markdown",
   "id": "307c6ab1",
   "metadata": {},
   "source": [
    "**Opdracht 1.3.** Bedrijfsbeslissing: optimaal aantal kassa's\n",
    "\n",
    "De supermarkt wil uiteraard de kosten minimaliseren. Elke normale kassa heeft (uiteraard) één medewerker nodig, voor alle zelfscankassa's samen is er ook één medewerker nodig. \n",
    "\n",
    "Aan de andere kant mag de gemiddelde wachttijd niet te hoog zijn. Voor de normale kassa's mag de gemiddelde wachttijd maximaal 10 zijn en mogen er geen uitschieters boven de 25 zijn. Voor de zelfscan kassa's mag de gemiddelde wachttijd maximaal 5 zijn en mogen er geen uitschieters boven de 12 zijn.\n",
    "\n",
    "Ga op zoek naar het optimale scenario en bepaal hoeveel medewerkers er nodig zijn. Pas daarvoor het codeblok met ```### Data genereren supermarkt``` aan, pas enkel onderstaande regels code aan:\n",
    "\n",
    "```\n",
    "scenario = [1, 2, 3] # aantal scenario's\n",
    "zelfscan = [3, 6, 10] # aantal zelfscankassa's voor respectievelijk scenario 1, 2 en 3\n",
    "normaal = [7, 3, 1] # aantal normale kassa's voor respectievelijk scenario 1, 2 en 3\n",
    "```\n",
    "\n",
    "Voor ```zelfscan``` en ```normaal``` kies je een aantal waardes, bijvoorbeeld ```zelfscan = [6, 8, 10, 12, 14]```. Zorg dat beide arrays even groot zijn en vul ```scenario``` dan met een opsomming van 1 tot en met het aantal ingevulde getallen. Bepaal daarna aan de hand van jouw visualisaties bij opdracht 1.1 en 1.2 wat het ideale scenario is."
   ]
  },
  {
   "cell_type": "code",
   "execution_count": 177,
   "id": "705ca8ab",
   "metadata": {},
   "outputs": [
    {
     "data": {
      "text/html": [
       "<div>\n",
       "<style scoped>\n",
       "    .dataframe tbody tr th:only-of-type {\n",
       "        vertical-align: middle;\n",
       "    }\n",
       "\n",
       "    .dataframe tbody tr th {\n",
       "        vertical-align: top;\n",
       "    }\n",
       "\n",
       "    .dataframe thead tr th {\n",
       "        text-align: left;\n",
       "    }\n",
       "\n",
       "    .dataframe thead tr:last-of-type th {\n",
       "        text-align: right;\n",
       "    }\n",
       "</style>\n",
       "<table border=\"1\" class=\"dataframe\">\n",
       "  <thead>\n",
       "    <tr>\n",
       "      <th></th>\n",
       "      <th colspan=\"2\" halign=\"left\">wachttijd zelfscan</th>\n",
       "      <th colspan=\"2\" halign=\"left\">wachttijd normaal</th>\n",
       "    </tr>\n",
       "    <tr>\n",
       "      <th></th>\n",
       "      <th>mean</th>\n",
       "      <th>max</th>\n",
       "      <th>mean</th>\n",
       "      <th>max</th>\n",
       "    </tr>\n",
       "    <tr>\n",
       "      <th>scenario</th>\n",
       "      <th></th>\n",
       "      <th></th>\n",
       "      <th></th>\n",
       "      <th></th>\n",
       "    </tr>\n",
       "  </thead>\n",
       "  <tbody>\n",
       "    <tr>\n",
       "      <th>1</th>\n",
       "      <td>10.035342</td>\n",
       "      <td>22.615556</td>\n",
       "      <td>1.962854</td>\n",
       "      <td>5.815996</td>\n",
       "    </tr>\n",
       "    <tr>\n",
       "      <th>2</th>\n",
       "      <td>8.465779</td>\n",
       "      <td>15.328597</td>\n",
       "      <td>3.564911</td>\n",
       "      <td>11.998927</td>\n",
       "    </tr>\n",
       "    <tr>\n",
       "      <th>3</th>\n",
       "      <td>6.158767</td>\n",
       "      <td>12.349040</td>\n",
       "      <td>6.436871</td>\n",
       "      <td>14.462500</td>\n",
       "    </tr>\n",
       "    <tr>\n",
       "      <th>4</th>\n",
       "      <td>4.081063</td>\n",
       "      <td>9.942374</td>\n",
       "      <td>7.326554</td>\n",
       "      <td>18.993737</td>\n",
       "    </tr>\n",
       "    <tr>\n",
       "      <th>5</th>\n",
       "      <td>2.013775</td>\n",
       "      <td>4.919594</td>\n",
       "      <td>9.102522</td>\n",
       "      <td>23.722923</td>\n",
       "    </tr>\n",
       "    <tr>\n",
       "      <th>6</th>\n",
       "      <td>0.000000</td>\n",
       "      <td>0.000000</td>\n",
       "      <td>11.944084</td>\n",
       "      <td>31.928081</td>\n",
       "    </tr>\n",
       "    <tr>\n",
       "      <th>7</th>\n",
       "      <td>4.090418</td>\n",
       "      <td>7.789833</td>\n",
       "      <td>8.069897</td>\n",
       "      <td>19.644570</td>\n",
       "    </tr>\n",
       "  </tbody>\n",
       "</table>\n",
       "</div>"
      ],
      "text/plain": [
       "         wachttijd zelfscan            wachttijd normaal           \n",
       "                       mean        max              mean        max\n",
       "scenario                                                           \n",
       "1                 10.035342  22.615556          1.962854   5.815996\n",
       "2                  8.465779  15.328597          3.564911  11.998927\n",
       "3                  6.158767  12.349040          6.436871  14.462500\n",
       "4                  4.081063   9.942374          7.326554  18.993737\n",
       "5                  2.013775   4.919594          9.102522  23.722923\n",
       "6                  0.000000   0.000000         11.944084  31.928081\n",
       "7                  4.090418   7.789833          8.069897  19.644570"
      ]
     },
     "execution_count": 177,
     "metadata": {},
     "output_type": "execute_result"
    }
   ],
   "source": [
    "# Uitwerking\n",
    "\n",
    "# Parameters experiment\n",
    "scenario = [1, 2, 3, 4, 5, 6, 7] # aantal scenario's\n",
    "runs = 100 # aantal runs per scenario\n",
    "zelfscan = [2, 4, 6, 8, 10, 12, 8] # aantal zelfscankassa's voor respectievelijk scenario 1, 2, ... n\n",
    "normaal = [14, 12, 10, 8, 6, 4, 8] # aantal normale kassa's voor respectievelijk scenario 1, 2, ... n\n",
    "\n",
    "# Lege lists om data op te slaan\n",
    "scenario_list = []\n",
    "run_list = []\n",
    "zelfscan_list = []\n",
    "normaal_list = []\n",
    "wachttijd_zs = []\n",
    "wachttijd_nor = []\n",
    "\n",
    "# Synthetische data genereren\n",
    "for sc in scenario:\n",
    "    for run in range(1, runs + 1):\n",
    "\n",
    "        # parameters vastleggen\n",
    "        scenario_list.append(sc)\n",
    "        run_list.append(run)\n",
    "        zelfscan_list.append(zelfscan[scenario.index(sc)])\n",
    "        normaal_list.append(normaal[scenario.index(sc)])\n",
    "\n",
    "        # Wachttijd bij de zelfscankassa genereren:\n",
    "        # normaal verdeling met gemiddelde 12 - aantal kassa's: hoe meer kassa's, hoe lager de wachttijd\n",
    "        # en standaarddeviatie (12 - aantal kassa's) / 2: hoe meer kassa's, hoe lager de spreiding\n",
    "        wachttijd_zs.append(np.random.normal(12-zelfscan[scenario.index(sc)], (12-zelfscan[scenario.index(sc)])/2))\n",
    "        # Wachttijd bij de normale kassa genereren: \n",
    "        # normaal verdeling met gemiddelde 16 - aantal kassa's: wachttijd bij normale kassa's is hoger\n",
    "        # en standaarddeviatie (16 - aantal kassa's) / 1.5: spreiding is nóg hoger, vandaar de 1.5\n",
    "        wachttijd_nor.append(np.random.normal(16-normaal[scenario.index(sc)], (16-normaal[scenario.index(sc)])/1.5))\n",
    "\n",
    "# Data opschonen: negatieve waardes vervangen met 0\n",
    "wachttijd_zs = [x if x >= 0 else 0 for x in wachttijd_zs]\n",
    "wachttijd_nor = [x if x >= 0 else 0 for x in wachttijd_nor]\n",
    "\n",
    "# Dataframe genereren\n",
    "df = pd.DataFrame({\n",
    "    'scenario': scenario_list,\n",
    "    'run': run_list,\n",
    "    'zelfscan': zelfscan_list,\n",
    "    'normaal': normaal_list,\n",
    "    'wachttijd zelfscan': wachttijd_zs,\n",
    "    'wachttijd normaal': wachttijd_nor\n",
    "})\n",
    "\n",
    "# Voorbeeldcode om data op niveau 4 te genereren\n",
    "df_level4 = df.groupby(['scenario']).agg({\n",
    "    'wachttijd zelfscan': ['mean', 'max'],\n",
    "    'wachttijd normaal': ['mean', 'max']})\n",
    "\n",
    "df_level4"
   ]
  },
  {
   "cell_type": "markdown",
   "id": "7fb77cf1",
   "metadata": {},
   "source": [
    "Conclusie: er zijn zowel 8 zelfscan- als normale kassa's nodig. "
   ]
  },
  {
   "cell_type": "markdown",
   "id": "72ed8fa3",
   "metadata": {},
   "source": [
    "## Opdrachten ICU\n",
    "In de repo staat een bestand ```icu_les4.yaml``` waarin generatoren voor synthetische data aangeroepen worden. Je kunt zelf deze inhoud in icu.yaml kopiëren en experimenten runnen, maar je mag ook de export van dit experiment (```icu - patient_timing - synth.csv``` en ```icu - icu - synth.csv```) gebruiken om analyses voor jouw portfolioitem uit te voeren."
   ]
  }
 ],
 "metadata": {
  "kernelspec": {
   "display_name": "Python 3",
   "language": "python",
   "name": "python3"
  },
  "language_info": {
   "codemirror_mode": {
    "name": "ipython",
    "version": 3
   },
   "file_extension": ".py",
   "mimetype": "text/x-python",
   "name": "python",
   "nbconvert_exporter": "python",
   "pygments_lexer": "ipython3",
   "version": "3.13.5"
  }
 },
 "nbformat": 4,
 "nbformat_minor": 5
}
