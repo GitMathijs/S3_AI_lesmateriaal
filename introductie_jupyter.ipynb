{
 "cells": [
  {
   "cell_type": "markdown",
   "metadata": {},
   "source": [
    "# Introductie Jupyter Notebook \n",
    "\n",
    "In het data science werkveld wordt voor het exploreren van data en het trainen van machine learning modellen veel gebruikt gemaakt van jupyter notebooks (.ipynb bestanden). \n",
    "In een notebook werk je met cellen die je onafhankelijk van elkaar kunt runnen. Dit maakt het makkelijk om met code te experimenteren en direct de output te zien. Ook kun je cellen toevoegen met tekst, waardoor je makkelijk je code kunt documenteren, je werkwijze kunt uitleggen of resultaten van je analyses kunt beschrijven. \n",
    "\n",
    "Jupyter notebooks zijn minder geschikt voor het schrijven van applicaties of voor samenwerking binnen een team. Als je na de exploratie en modelleerfase je code daadwerkelijk in gebruik wilt nemen, zul je dit weer op moeten schrijven naar .py bestanden. \n",
    "\n",
    "Je kunt notebooks op verschillende manieren runnen. Bijvoorbeeld in de cloud (bijvoorbeeld in google colab: https://colab.research.google.com/), in de browser in jupyter lab (zie https://jupyter.org/). Wij kiezen voor gebruik in een IDE omdat jullie daar al mee gewend zijn te werken in S2. De instructies in dit notebook werken als je deze hebt geopend in Visual Studio Code. Kies je een andere editor, dan zal het erop lijken maar mogelijk niet precies kloppen."
   ]
  },
  {
   "cell_type": "markdown",
   "metadata": {},
   "source": [
    "Deze cel en de cel hierboven zijn markdown cellen. Dat kun je zien door te dubbelklikken op deze cel, dan zie je rechtsonderin `markdown` staan. Je kunt ook python cellen maken, waarin je dus code kunt runnen. Zie de cel hieronder. Om python code te kunnen runnen moet je eerst een kernel kiezen, dit is de pythonomgeving waarmee je de code wilt runnen. Als het goed is heb je al de ai-s3 conda environment gecreeerd, die kun je hiervoor kiezen. Klik daarvoor rechtboven op 'Select Kernel' en kies 'ai-s3'. (Heb je deze conda environment nog niet, kijk dan in de readme). Na het kiezen van een kernel kun je links van een python cel op de 'play' knop drukken en dan wordt de code in de cel gerund.Doe dat bij onderstaande cel."
   ]
  },
  {
   "cell_type": "code",
   "execution_count": null,
   "metadata": {},
   "outputs": [],
   "source": [
    "print(\"Hallo vanuit dit notebook!\")"
   ]
  },
  {
   "cell_type": "markdown",
   "metadata": {},
   "source": [
    "Klik nu nog eens op de cel hierboven, maak er een Markdown cel van en run hem nog eens. Wat gebeurt er? Verander hem vervolgens weer terug naar code."
   ]
  },
  {
   "cell_type": "markdown",
   "metadata": {},
   "source": [
    "Een notebook heeft een Edit-mode en een Command-mode. In de Edit-mode kun je de inhoud van cellen aanpassen. In de command-mode kun het notebook wel aanpassen, maar niet de inhoud van de cellen. De command-mode is handig omdat je dan met keyboard shortcuts allerlei aanpassingen kan maken, bijvoorbeeld cellen toevoegen of verwijderen. Om naar de Command-mode te gaan druk je op ***esc***. Om  terug te gaan naar Edit-mode kun je dubbelklikken in de gewenste cel, of op ***Enter*** drukken. \n",
    "Oefen hier eens mee, bijvoorbeeld door onderstaande stappen uit te voeren:\n",
    "* Dubbelklik nu in deze cel om naar de Edit-mode te gaan\n",
    "* Druk op ***esc*** om terug naar de Command-mode te gaan\n",
    "* druk op ***b*** om een nieuwe cel onder de huidige cel toe te voegen.\n",
    "* Dubbelklik in de nieuwe cel of druk op ***Enter***. \n",
    "* Schrijf een stukje code in de cel.\n",
    "* Run de cel door op ***shift***+***enter*** te drukken. "
   ]
  },
  {
   "cell_type": "code",
   "execution_count": null,
   "metadata": {},
   "outputs": [],
   "source": [
    "print(\"Hello World!\")"
   ]
  },
  {
   "cell_type": "markdown",
   "metadata": {},
   "source": [
    "Ander handige short-keys in de command-mode zijn:\n",
    "* a voegt een cel boven de huidige toe\n",
    "* m maakt een markdowncel van de huidige cel\n",
    "* y maakt een code-cel van de huidige cel\n",
    "* x verwijdert een cel\n",
    "* met c en v kun je een cel copy-pasten\n",
    "\n",
    "    Je hoeft deze niet uit je hoofd te leren, maar je kunt sneller werken als je een paar van deze commands gebruikt. \n",
    "    Je kunt bijna alles ook met je muis doen, dus je hoeft de short-keys in de command-mode niet te gebruiken als je niet wilt, maar het werkt vaak wel sneller."
   ]
  },
  {
   "cell_type": "markdown",
   "metadata": {},
   "source": [
    "Nu is het tijd om code te gaan schrijven en runnen. Let erop dat variabelen alleen in het geheugen komen als je een cel gerund hebt. Het is dus niet genoeg om code te schrijven. Zorg dat je je notebook zo in richt dat alle code werkt als je de cellen van boven naar beneden één voor één runt. Iedere code-cel heeft blokhaken bij de cel staan, als je hem runt komt daar een getal in te staan waaraan je kan zien in welke volgorde de cellen gerund zijn."
   ]
  },
  {
   "cell_type": "markdown",
   "metadata": {},
   "source": [
    "Als je een variabele in een cel definieert en deze runt, kun je hem in alle cellen die je daarna runt gebruiken. Run onderstaande cellen om te zien hoe dit werkt."
   ]
  },
  {
   "cell_type": "code",
   "execution_count": null,
   "metadata": {},
   "outputs": [],
   "source": [
    "naam = \"Mathijs\""
   ]
  },
  {
   "cell_type": "markdown",
   "metadata": {},
   "source": [
    "Als je een SyntaxError krijgt ben je vergeten je naam in te vullen :) "
   ]
  },
  {
   "cell_type": "code",
   "execution_count": null,
   "metadata": {},
   "outputs": [],
   "source": [
    "print(\"Hallo \" + naam)"
   ]
  },
  {
   "cell_type": "markdown",
   "metadata": {},
   "source": [
    "Naast variabele kun je ook functies definieren in een cel die je vervolgens in andere cellen kunt gebruiken (als je hem gerund hebt). Run onderstaande cellen om te zien hoe dit werkt."
   ]
  },
  {
   "cell_type": "code",
   "execution_count": null,
   "metadata": {},
   "outputs": [],
   "source": [
    "def tel_op(a, b):\n",
    "    return a + b"
   ]
  },
  {
   "cell_type": "code",
   "execution_count": null,
   "metadata": {},
   "outputs": [],
   "source": [
    "tel_op(3,5)"
   ]
  },
  {
   "cell_type": "markdown",
   "metadata": {},
   "source": [
    "Als we functies of variabelen gebruiken die wel in een cel staan, maar nog niet gerund zijn, zullen we een error krijgen. Run onderstaande cellen eens."
   ]
  },
  {
   "cell_type": "code",
   "execution_count": null,
   "metadata": {},
   "outputs": [],
   "source": [
    "trek_af(8,3)"
   ]
  },
  {
   "cell_type": "markdown",
   "metadata": {},
   "source": [
    "De error is vrij duidelijk, trek_af is nog niet gedefineerd. Dat doen we in onderstaande cel. Run die, en run vervolgens bovenstaande cel nog eens. Je ziet dat het dan wel werkt."
   ]
  },
  {
   "cell_type": "code",
   "execution_count": null,
   "metadata": {},
   "outputs": [],
   "source": [
    "def trek_af(a, b):\n",
    "    return a - b"
   ]
  },
  {
   "cell_type": "markdown",
   "metadata": {},
   "source": [
    "Maar deze constructie wil je dus vermijden, want je wilt dat je code van boven naar beneden werkt en dat zal bij het opnieuw starten van dit notebook niet het geval zijn. Dit klinkt nu misschien heel voor de handliggend, maar je zult straks in de praktijk zien dat dit toch vaak misgaat. "
   ]
  },
  {
   "cell_type": "markdown",
   "metadata": {},
   "source": [
    "Als je op een gegeven moment heel veel code geschreven en weer veranderd hebt, waardoor je niet meer weet welke variabelen en functies wel/niet in het geheugen zitten, kun je de kernel opnieuw opstarten (Klik op `Restart`). Je kunt dan alle cellen van boven naar beneden runnen (Klik op `Run All`). Als dat werkt weet je dat je een goed werkend notebook gemaakt hebt.\n",
    "\n",
    "Er zijn nog twee gevallen waarbij het herstarten van de kernel handig is: Als je notebook vastloopt kun je hem zo resetten, maar ook als je een nieuw package geinstalleerd hebt moet je soms de kernel herstarten voordat je hem kunt gebruiken."
   ]
  },
  {
   "cell_type": "markdown",
   "metadata": {},
   "source": [
    "## Clear All Outputs"
   ]
  },
  {
   "cell_type": "markdown",
   "metadata": {},
   "source": [
    "Boven aan dit notebook zie je in de menubalk ook de optie `Clear All Outputs`. Hiermee kun je alle output van de cellen wissen. Dit is handig als je een notebook wilt delen met iemand anders, zodat diegene niet de output van jouw code ziet, maar alleen de code zelf. Als je straks notebooks in git gaat zetten raad ik je aan altijd de output te clearen voordat je commit, dit kan vervelende merge conflicten voorkomen.\n",
    "\n",
    "De uitzondering daarop is bij het inleveren van portfolio items. Bij het inleveren van een notebook als portfolio item moet je de output juist laten staan, zodat wij precies kunnen zien wat je bedoeling was zonder dat wij alles moeten runnen. Het kan zijn dat jij een andere versie van een package gebruikt (of dat toch de volgorde van je cellen niet klopt) en dan kunnen wij toch jouw werk bekijken, ook als het bij ons niet runt."
   ]
  }
 ],
 "metadata": {
  "kernelspec": {
   "display_name": "ai-s3",
   "language": "python",
   "name": "python3"
  },
  "language_info": {
   "codemirror_mode": {
    "name": "ipython",
    "version": 3
   },
   "file_extension": ".py",
   "mimetype": "text/x-python",
   "name": "python",
   "nbconvert_exporter": "python",
   "pygments_lexer": "ipython3",
   "version": "3.13.5"
  }
 },
 "nbformat": 4,
 "nbformat_minor": 4
}
